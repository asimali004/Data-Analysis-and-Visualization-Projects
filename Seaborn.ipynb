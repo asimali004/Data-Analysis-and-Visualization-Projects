{
  "nbformat": 4,
  "nbformat_minor": 0,
  "metadata": {
    "colab": {
      "name": "Seaborn.ipynb",
      "provenance": [],
      "collapsed_sections": []
    },
    "kernelspec": {
      "name": "python3",
      "display_name": "Python 3"
    }
  },
  "cells": [
    {
      "cell_type": "code",
      "metadata": {
        "colab": {
          "base_uri": "https://localhost:8080/"
        },
        "id": "BAMy8YnoR1hg",
        "outputId": "6ce9fe56-f1e0-46fa-fe8f-5d2deedabd0f"
      },
      "source": [
        "from google.colab import drive\n",
        "drive.mount(\"/content/gdrive\")"
      ],
      "execution_count": null,
      "outputs": [
        {
          "output_type": "stream",
          "text": [
            "Mounted at /content/gdrive\n"
          ],
          "name": "stdout"
        }
      ]
    },
    {
      "cell_type": "code",
      "metadata": {
        "id": "982CnEfmSDrG"
      },
      "source": [
        "import numpy as np\n",
        "import pandas as pd\n",
        "import matplotlib.pyplot as plt\n",
        "import seaborn as sns"
      ],
      "execution_count": null,
      "outputs": []
    },
    {
      "cell_type": "code",
      "metadata": {
        "id": "OQX3RDNDSWac"
      },
      "source": [
        "df=pd.read_csv(\"/content/gdrive/MyDrive/datasets/CAR DETAILS FROM CAR DEKHO.csv\")"
      ],
      "execution_count": null,
      "outputs": []
    },
    {
      "cell_type": "code",
      "metadata": {
        "colab": {
          "base_uri": "https://localhost:8080/",
          "height": 136
        },
        "id": "3C3mCh7kSkUy",
        "outputId": "2da33e82-3420-446e-c2d1-47f9bd7d8816"
      },
      "source": [
        "df.head(3)"
      ],
      "execution_count": null,
      "outputs": [
        {
          "output_type": "execute_result",
          "data": {
            "text/html": [
              "<div>\n",
              "<style scoped>\n",
              "    .dataframe tbody tr th:only-of-type {\n",
              "        vertical-align: middle;\n",
              "    }\n",
              "\n",
              "    .dataframe tbody tr th {\n",
              "        vertical-align: top;\n",
              "    }\n",
              "\n",
              "    .dataframe thead th {\n",
              "        text-align: right;\n",
              "    }\n",
              "</style>\n",
              "<table border=\"1\" class=\"dataframe\">\n",
              "  <thead>\n",
              "    <tr style=\"text-align: right;\">\n",
              "      <th></th>\n",
              "      <th>name</th>\n",
              "      <th>year</th>\n",
              "      <th>selling_price</th>\n",
              "      <th>km_driven</th>\n",
              "      <th>fuel</th>\n",
              "      <th>seller_type</th>\n",
              "      <th>transmission</th>\n",
              "      <th>owner</th>\n",
              "    </tr>\n",
              "  </thead>\n",
              "  <tbody>\n",
              "    <tr>\n",
              "      <th>0</th>\n",
              "      <td>Maruti 800 AC</td>\n",
              "      <td>2007</td>\n",
              "      <td>60000</td>\n",
              "      <td>70000</td>\n",
              "      <td>Petrol</td>\n",
              "      <td>Individual</td>\n",
              "      <td>Manual</td>\n",
              "      <td>First Owner</td>\n",
              "    </tr>\n",
              "    <tr>\n",
              "      <th>1</th>\n",
              "      <td>Maruti Wagon R LXI Minor</td>\n",
              "      <td>2007</td>\n",
              "      <td>135000</td>\n",
              "      <td>50000</td>\n",
              "      <td>Petrol</td>\n",
              "      <td>Individual</td>\n",
              "      <td>Manual</td>\n",
              "      <td>First Owner</td>\n",
              "    </tr>\n",
              "    <tr>\n",
              "      <th>2</th>\n",
              "      <td>Hyundai Verna 1.6 SX</td>\n",
              "      <td>2012</td>\n",
              "      <td>600000</td>\n",
              "      <td>100000</td>\n",
              "      <td>Diesel</td>\n",
              "      <td>Individual</td>\n",
              "      <td>Manual</td>\n",
              "      <td>First Owner</td>\n",
              "    </tr>\n",
              "  </tbody>\n",
              "</table>\n",
              "</div>"
            ],
            "text/plain": [
              "                       name  year  ...  transmission        owner\n",
              "0             Maruti 800 AC  2007  ...        Manual  First Owner\n",
              "1  Maruti Wagon R LXI Minor  2007  ...        Manual  First Owner\n",
              "2      Hyundai Verna 1.6 SX  2012  ...        Manual  First Owner\n",
              "\n",
              "[3 rows x 8 columns]"
            ]
          },
          "metadata": {
            "tags": []
          },
          "execution_count": 5
        }
      ]
    },
    {
      "cell_type": "code",
      "metadata": {
        "colab": {
          "base_uri": "https://localhost:8080/",
          "height": 296
        },
        "id": "ESfthziASvNV",
        "outputId": "34cab7f9-4c46-4d01-ee9f-11cbb9b8f0b8"
      },
      "source": [
        "sns.barplot(x=\"fuel\",y=\"selling_price\",data=df)"
      ],
      "execution_count": null,
      "outputs": [
        {
          "output_type": "execute_result",
          "data": {
            "text/plain": [
              "<matplotlib.axes._subplots.AxesSubplot at 0x7f29ea0c4390>"
            ]
          },
          "metadata": {
            "tags": []
          },
          "execution_count": 9
        },
        {
          "output_type": "display_data",
          "data": {
            "image/png": "[encoded data removed]",
            "text/plain": [
              "<Figure size 432x288 with 1 Axes>"
            ]
          },
          "metadata": {
            "tags": [],
            "needs_background": "light"
          }
        }
      ]
    },
    {
      "cell_type": "code",
      "metadata": {
        "colab": {
          "base_uri": "https://localhost:8080/",
          "height": 307
        },
        "id": "m3Rku3lKTE7t",
        "outputId": "7a3b78b5-0110-4e78-b6a2-ca59d28e4a9f"
      },
      "source": [
        "sns.barplot(x=\"fuel\",y=\"selling_price\",data=df,hue=\"owner\")"
      ],
      "execution_count": null,
      "outputs": [
        {
          "output_type": "execute_result",
          "data": {
            "text/plain": [
              "<matplotlib.axes._subplots.AxesSubplot at 0x7f29e95e1978>"
            ]
          },
          "metadata": {
            "tags": []
          },
          "execution_count": 10
        },
        {
          "output_type": "display_data",
          "data": {
            "image/png": "[encoded data removed]",
            "text/plain": [
              "<Figure size 432x288 with 1 Axes>"
            ]
          },
          "metadata": {
            "tags": [],
            "needs_background": "light"
          }
        }
      ]
    },
    {
      "cell_type": "code",
      "metadata": {
        "colab": {
          "base_uri": "https://localhost:8080/",
          "height": 297
        },
        "id": "7P7cCQ4bVjD_",
        "outputId": "268d57c6-2efe-4f98-da42-dd4d990454d6"
      },
      "source": [
        "sns.barplot(y=\"year\",x=\"selling_price\",data=df,ci=None,orient=\"h\",color=\"cyan\")"
      ],
      "execution_count": null,
      "outputs": [
        {
          "output_type": "execute_result",
          "data": {
            "text/plain": [
              "<matplotlib.axes._subplots.AxesSubplot at 0x7f29e4366748>"
            ]
          },
          "metadata": {
            "tags": []
          },
          "execution_count": 37
        },
        {
          "output_type": "display_data",
          "data": {
            "image/png": "[encoded data removed]",
            "text/plain": [
              "<Figure size 432x288 with 1 Axes>"
            ]
          },
          "metadata": {
            "tags": [],
            "needs_background": "light"
          }
        }
      ]
    },
    {
      "cell_type": "code",
      "metadata": {
        "colab": {
          "base_uri": "https://localhost:8080/",
          "height": 469
        },
        "id": "VC_-O6jhWMbg",
        "outputId": "08028015-2c67-4d71-82bc-c3c29c66f3f9"
      },
      "source": [
        "display(df)"
      ],
      "execution_count": null,
      "outputs": [
        {
          "output_type": "display_data",
          "data": {
            "text/html": [
              "<div>\n",
              "<style scoped>\n",
              "    .dataframe tbody tr th:only-of-type {\n",
              "        vertical-align: middle;\n",
              "    }\n",
              "\n",
              "    .dataframe tbody tr th {\n",
              "        vertical-align: top;\n",
              "    }\n",
              "\n",
              "    .dataframe thead th {\n",
              "        text-align: right;\n",
              "    }\n",
              "</style>\n",
              "<table border=\"1\" class=\"dataframe\">\n",
              "  <thead>\n",
              "    <tr style=\"text-align: right;\">\n",
              "      <th></th>\n",
              "      <th>name</th>\n",
              "      <th>year</th>\n",
              "      <th>selling_price</th>\n",
              "      <th>km_driven</th>\n",
              "      <th>fuel</th>\n",
              "      <th>seller_type</th>\n",
              "      <th>transmission</th>\n",
              "      <th>owner</th>\n",
              "    </tr>\n",
              "  </thead>\n",
              "  <tbody>\n",
              "    <tr>\n",
              "      <th>0</th>\n",
              "      <td>Maruti 800 AC</td>\n",
              "      <td>2007</td>\n",
              "      <td>60000</td>\n",
              "      <td>70000</td>\n",
              "      <td>Petrol</td>\n",
              "      <td>Individual</td>\n",
              "      <td>Manual</td>\n",
              "      <td>First Owner</td>\n",
              "    </tr>\n",
              "    <tr>\n",
              "      <th>1</th>\n",
              "      <td>Maruti Wagon R LXI Minor</td>\n",
              "      <td>2007</td>\n",
              "      <td>135000</td>\n",
              "      <td>50000</td>\n",
              "      <td>Petrol</td>\n",
              "      <td>Individual</td>\n",
              "      <td>Manual</td>\n",
              "      <td>First Owner</td>\n",
              "    </tr>\n",
              "    <tr>\n",
              "      <th>2</th>\n",
              "      <td>Hyundai Verna 1.6 SX</td>\n",
              "      <td>2012</td>\n",
              "      <td>600000</td>\n",
              "      <td>100000</td>\n",
              "      <td>Diesel</td>\n",
              "      <td>Individual</td>\n",
              "      <td>Manual</td>\n",
              "      <td>First Owner</td>\n",
              "    </tr>\n",
              "    <tr>\n",
              "      <th>3</th>\n",
              "      <td>Datsun RediGO T Option</td>\n",
              "      <td>2017</td>\n",
              "      <td>250000</td>\n",
              "      <td>46000</td>\n",
              "      <td>Petrol</td>\n",
              "      <td>Individual</td>\n",
              "      <td>Manual</td>\n",
              "      <td>First Owner</td>\n",
              "    </tr>\n",
              "    <tr>\n",
              "      <th>4</th>\n",
              "      <td>Honda Amaze VX i-DTEC</td>\n",
              "      <td>2014</td>\n",
              "      <td>450000</td>\n",
              "      <td>141000</td>\n",
              "      <td>Diesel</td>\n",
              "      <td>Individual</td>\n",
              "      <td>Manual</td>\n",
              "      <td>Second Owner</td>\n",
              "    </tr>\n",
              "    <tr>\n",
              "      <th>...</th>\n",
              "      <td>...</td>\n",
              "      <td>...</td>\n",
              "      <td>...</td>\n",
              "      <td>...</td>\n",
              "      <td>...</td>\n",
              "      <td>...</td>\n",
              "      <td>...</td>\n",
              "      <td>...</td>\n",
              "    </tr>\n",
              "    <tr>\n",
              "      <th>4335</th>\n",
              "      <td>Hyundai i20 Magna 1.4 CRDi (Diesel)</td>\n",
              "      <td>2014</td>\n",
              "      <td>409999</td>\n",
              "      <td>80000</td>\n",
              "      <td>Diesel</td>\n",
              "      <td>Individual</td>\n",
              "      <td>Manual</td>\n",
              "      <td>Second Owner</td>\n",
              "    </tr>\n",
              "    <tr>\n",
              "      <th>4336</th>\n",
              "      <td>Hyundai i20 Magna 1.4 CRDi</td>\n",
              "      <td>2014</td>\n",
              "      <td>409999</td>\n",
              "      <td>80000</td>\n",
              "      <td>Diesel</td>\n",
              "      <td>Individual</td>\n",
              "      <td>Manual</td>\n",
              "      <td>Second Owner</td>\n",
              "    </tr>\n",
              "    <tr>\n",
              "      <th>4337</th>\n",
              "      <td>Maruti 800 AC BSIII</td>\n",
              "      <td>2009</td>\n",
              "      <td>110000</td>\n",
              "      <td>83000</td>\n",
              "      <td>Petrol</td>\n",
              "      <td>Individual</td>\n",
              "      <td>Manual</td>\n",
              "      <td>Second Owner</td>\n",
              "    </tr>\n",
              "    <tr>\n",
              "      <th>4338</th>\n",
              "      <td>Hyundai Creta 1.6 CRDi SX Option</td>\n",
              "      <td>2016</td>\n",
              "      <td>865000</td>\n",
              "      <td>90000</td>\n",
              "      <td>Diesel</td>\n",
              "      <td>Individual</td>\n",
              "      <td>Manual</td>\n",
              "      <td>First Owner</td>\n",
              "    </tr>\n",
              "    <tr>\n",
              "      <th>4339</th>\n",
              "      <td>Renault KWID RXT</td>\n",
              "      <td>2016</td>\n",
              "      <td>225000</td>\n",
              "      <td>40000</td>\n",
              "      <td>Petrol</td>\n",
              "      <td>Individual</td>\n",
              "      <td>Manual</td>\n",
              "      <td>First Owner</td>\n",
              "    </tr>\n",
              "  </tbody>\n",
              "</table>\n",
              "<p>4340 rows × 8 columns</p>\n",
              "</div>"
            ],
            "text/plain": [
              "                                     name  year  ...  transmission         owner\n",
              "0                           Maruti 800 AC  2007  ...        Manual   First Owner\n",
              "1                Maruti Wagon R LXI Minor  2007  ...        Manual   First Owner\n",
              "2                    Hyundai Verna 1.6 SX  2012  ...        Manual   First Owner\n",
              "3                  Datsun RediGO T Option  2017  ...        Manual   First Owner\n",
              "4                   Honda Amaze VX i-DTEC  2014  ...        Manual  Second Owner\n",
              "...                                   ...   ...  ...           ...           ...\n",
              "4335  Hyundai i20 Magna 1.4 CRDi (Diesel)  2014  ...        Manual  Second Owner\n",
              "4336           Hyundai i20 Magna 1.4 CRDi  2014  ...        Manual  Second Owner\n",
              "4337                  Maruti 800 AC BSIII  2009  ...        Manual  Second Owner\n",
              "4338     Hyundai Creta 1.6 CRDi SX Option  2016  ...        Manual   First Owner\n",
              "4339                     Renault KWID RXT  2016  ...        Manual   First Owner\n",
              "\n",
              "[4340 rows x 8 columns]"
            ]
          },
          "metadata": {
            "tags": []
          }
        }
      ]
    },
    {
      "cell_type": "code",
      "metadata": {
        "colab": {
          "base_uri": "https://localhost:8080/",
          "height": 138
        },
        "id": "9651o4F8fN2u",
        "outputId": "1891aa4d-08f6-4ba1-db98-0e01f0b59289"
      },
      "source": [
        "df.head().style.set_table_styles([{'selector' : 'tr:hover','props' : [('border','2px solid green')]}]) "
      ],
      "execution_count": null,
      "outputs": [
        {
          "output_type": "execute_result",
          "data": {
            "text/html": [
              "<style  type=\"text/css\" >\n",
              "    #T_371498a0_72df_11eb_a2fc_0242ac1c0002 tr:hover {\n",
              "          border: 2px solid green;\n",
              "    }</style><table id=\"T_371498a0_72df_11eb_a2fc_0242ac1c0002\" ><thead>    <tr>        <th class=\"blank level0\" ></th>        <th class=\"col_heading level0 col0\" >name</th>        <th class=\"col_heading level0 col1\" >year</th>        <th class=\"col_heading level0 col2\" >selling_price</th>        <th class=\"col_heading level0 col3\" >km_driven</th>        <th class=\"col_heading level0 col4\" >fuel</th>        <th class=\"col_heading level0 col5\" >seller_type</th>        <th class=\"col_heading level0 col6\" >transmission</th>        <th class=\"col_heading level0 col7\" >owner</th>    </tr></thead><tbody>\n",
              "                <tr>\n",
              "                        <th id=\"T_371498a0_72df_11eb_a2fc_0242ac1c0002level0_row0\" class=\"row_heading level0 row0\" >0</th>\n",
              "                        <td id=\"T_371498a0_72df_11eb_a2fc_0242ac1c0002row0_col0\" class=\"data row0 col0\" >Maruti 800 AC</td>\n",
              "                        <td id=\"T_371498a0_72df_11eb_a2fc_0242ac1c0002row0_col1\" class=\"data row0 col1\" >2007</td>\n",
              "                        <td id=\"T_371498a0_72df_11eb_a2fc_0242ac1c0002row0_col2\" class=\"data row0 col2\" >60000</td>\n",
              "                        <td id=\"T_371498a0_72df_11eb_a2fc_0242ac1c0002row0_col3\" class=\"data row0 col3\" >70000</td>\n",
              "                        <td id=\"T_371498a0_72df_11eb_a2fc_0242ac1c0002row0_col4\" class=\"data row0 col4\" >Petrol</td>\n",
              "                        <td id=\"T_371498a0_72df_11eb_a2fc_0242ac1c0002row0_col5\" class=\"data row0 col5\" >Individual</td>\n",
              "                        <td id=\"T_371498a0_72df_11eb_a2fc_0242ac1c0002row0_col6\" class=\"data row0 col6\" >Manual</td>\n",
              "                        <td id=\"T_371498a0_72df_11eb_a2fc_0242ac1c0002row0_col7\" class=\"data row0 col7\" >First Owner</td>\n",
              "            </tr>\n",
              "            <tr>\n",
              "                        <th id=\"T_371498a0_72df_11eb_a2fc_0242ac1c0002level0_row1\" class=\"row_heading level0 row1\" >1</th>\n",
              "                        <td id=\"T_371498a0_72df_11eb_a2fc_0242ac1c0002row1_col0\" class=\"data row1 col0\" >Maruti Wagon R LXI Minor</td>\n",
              "                        <td id=\"T_371498a0_72df_11eb_a2fc_0242ac1c0002row1_col1\" class=\"data row1 col1\" >2007</td>\n",
              "                        <td id=\"T_371498a0_72df_11eb_a2fc_0242ac1c0002row1_col2\" class=\"data row1 col2\" >135000</td>\n",
              "                        <td id=\"T_371498a0_72df_11eb_a2fc_0242ac1c0002row1_col3\" class=\"data row1 col3\" >50000</td>\n",
              "                        <td id=\"T_371498a0_72df_11eb_a2fc_0242ac1c0002row1_col4\" class=\"data row1 col4\" >Petrol</td>\n",
              "                        <td id=\"T_371498a0_72df_11eb_a2fc_0242ac1c0002row1_col5\" class=\"data row1 col5\" >Individual</td>\n",
              "                        <td id=\"T_371498a0_72df_11eb_a2fc_0242ac1c0002row1_col6\" class=\"data row1 col6\" >Manual</td>\n",
              "                        <td id=\"T_371498a0_72df_11eb_a2fc_0242ac1c0002row1_col7\" class=\"data row1 col7\" >First Owner</td>\n",
              "            </tr>\n",
              "            <tr>\n",
              "                        <th id=\"T_371498a0_72df_11eb_a2fc_0242ac1c0002level0_row2\" class=\"row_heading level0 row2\" >2</th>\n",
              "                        <td id=\"T_371498a0_72df_11eb_a2fc_0242ac1c0002row2_col0\" class=\"data row2 col0\" >Hyundai Verna 1.6 SX</td>\n",
              "                        <td id=\"T_371498a0_72df_11eb_a2fc_0242ac1c0002row2_col1\" class=\"data row2 col1\" >2012</td>\n",
              "                        <td id=\"T_371498a0_72df_11eb_a2fc_0242ac1c0002row2_col2\" class=\"data row2 col2\" >600000</td>\n",
              "                        <td id=\"T_371498a0_72df_11eb_a2fc_0242ac1c0002row2_col3\" class=\"data row2 col3\" >100000</td>\n",
              "                        <td id=\"T_371498a0_72df_11eb_a2fc_0242ac1c0002row2_col4\" class=\"data row2 col4\" >Diesel</td>\n",
              "                        <td id=\"T_371498a0_72df_11eb_a2fc_0242ac1c0002row2_col5\" class=\"data row2 col5\" >Individual</td>\n",
              "                        <td id=\"T_371498a0_72df_11eb_a2fc_0242ac1c0002row2_col6\" class=\"data row2 col6\" >Manual</td>\n",
              "                        <td id=\"T_371498a0_72df_11eb_a2fc_0242ac1c0002row2_col7\" class=\"data row2 col7\" >First Owner</td>\n",
              "            </tr>\n",
              "            <tr>\n",
              "                        <th id=\"T_371498a0_72df_11eb_a2fc_0242ac1c0002level0_row3\" class=\"row_heading level0 row3\" >3</th>\n",
              "                        <td id=\"T_371498a0_72df_11eb_a2fc_0242ac1c0002row3_col0\" class=\"data row3 col0\" >Datsun RediGO T Option</td>\n",
              "                        <td id=\"T_371498a0_72df_11eb_a2fc_0242ac1c0002row3_col1\" class=\"data row3 col1\" >2017</td>\n",
              "                        <td id=\"T_371498a0_72df_11eb_a2fc_0242ac1c0002row3_col2\" class=\"data row3 col2\" >250000</td>\n",
              "                        <td id=\"T_371498a0_72df_11eb_a2fc_0242ac1c0002row3_col3\" class=\"data row3 col3\" >46000</td>\n",
              "                        <td id=\"T_371498a0_72df_11eb_a2fc_0242ac1c0002row3_col4\" class=\"data row3 col4\" >Petrol</td>\n",
              "                        <td id=\"T_371498a0_72df_11eb_a2fc_0242ac1c0002row3_col5\" class=\"data row3 col5\" >Individual</td>\n",
              "                        <td id=\"T_371498a0_72df_11eb_a2fc_0242ac1c0002row3_col6\" class=\"data row3 col6\" >Manual</td>\n",
              "                        <td id=\"T_371498a0_72df_11eb_a2fc_0242ac1c0002row3_col7\" class=\"data row3 col7\" >First Owner</td>\n",
              "            </tr>\n",
              "            <tr>\n",
              "                        <th id=\"T_371498a0_72df_11eb_a2fc_0242ac1c0002level0_row4\" class=\"row_heading level0 row4\" >4</th>\n",
              "                        <td id=\"T_371498a0_72df_11eb_a2fc_0242ac1c0002row4_col0\" class=\"data row4 col0\" >Honda Amaze VX i-DTEC</td>\n",
              "                        <td id=\"T_371498a0_72df_11eb_a2fc_0242ac1c0002row4_col1\" class=\"data row4 col1\" >2014</td>\n",
              "                        <td id=\"T_371498a0_72df_11eb_a2fc_0242ac1c0002row4_col2\" class=\"data row4 col2\" >450000</td>\n",
              "                        <td id=\"T_371498a0_72df_11eb_a2fc_0242ac1c0002row4_col3\" class=\"data row4 col3\" >141000</td>\n",
              "                        <td id=\"T_371498a0_72df_11eb_a2fc_0242ac1c0002row4_col4\" class=\"data row4 col4\" >Diesel</td>\n",
              "                        <td id=\"T_371498a0_72df_11eb_a2fc_0242ac1c0002row4_col5\" class=\"data row4 col5\" >Individual</td>\n",
              "                        <td id=\"T_371498a0_72df_11eb_a2fc_0242ac1c0002row4_col6\" class=\"data row4 col6\" >Manual</td>\n",
              "                        <td id=\"T_371498a0_72df_11eb_a2fc_0242ac1c0002row4_col7\" class=\"data row4 col7\" >Second Owner</td>\n",
              "            </tr>\n",
              "    </tbody></table>"
            ],
            "text/plain": [
              "<pandas.io.formats.style.Styler at 0x7f29e4bda6a0>"
            ]
          },
          "metadata": {
            "tags": []
          },
          "execution_count": 45
        }
      ]
    },
    {
      "cell_type": "code",
      "metadata": {
        "id": "Q_qEE2A6gvi0"
      },
      "source": [
        "df.style.set_table_styles()"
      ],
      "execution_count": null,
      "outputs": []
    }
  ]
}