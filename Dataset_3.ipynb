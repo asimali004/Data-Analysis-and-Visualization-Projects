{
  "nbformat": 4,
  "nbformat_minor": 0,
  "metadata": {
    "colab": {
      "name": "Dataset 3.ipynb",
      "provenance": [],
      "collapsed_sections": []
    },
    "kernelspec": {
      "name": "python3",
      "display_name": "Python 3"
    }
  },
  "cells": [
    {
      "cell_type": "code",
      "metadata": {
        "colab": {
          "base_uri": "https://localhost:8080/"
        },
        "id": "BI0zOHBfPBSd",
        "outputId": "21e7b163-31bf-4001-9591-d1ec76060f57"
      },
      "source": [
        "from google.colab import drive\n",
        "drive.mount(\"/content/gdrive\")"
      ],
      "execution_count": null,
      "outputs": [
        {
          "output_type": "stream",
          "text": [
            "Mounted at /content/gdrive\n"
          ],
          "name": "stdout"
        }
      ]
    },
    {
      "cell_type": "markdown",
      "metadata": {
        "id": "yUfZ2wKmP3kF"
      },
      "source": [
        "#3. Singapore-citizens-by-age-group-ethnic-group-and-sex-end-june-annual"
      ]
    },
    {
      "cell_type": "markdown",
      "metadata": {
        "id": "_qsS1Uw0P331"
      },
      "source": [
        "# Dataset URL: https://data.gov.sg/dataset/singapore-citizens-by-age-group-ethnic-group-and-sex-end-june-annual"
      ]
    },
    {
      "cell_type": "code",
      "metadata": {
        "id": "jbeTG5HYQB-D"
      },
      "source": [
        "import pandas as pd\n",
        "import numpy as np\n",
        "import matplotlib.pyplot as plt\n",
        "import seaborn as sns"
      ],
      "execution_count": null,
      "outputs": []
    },
    {
      "cell_type": "code",
      "metadata": {
        "id": "93tZk06dQGUK"
      },
      "source": [
        "df = pd.read_csv(\"/content/gdrive/MyDrive/DATASETS 2/singapore-citizens-by-age-group-ethnic-group-and-sex-end-june-annual.csv\")"
      ],
      "execution_count": null,
      "outputs": []
    },
    {
      "cell_type": "code",
      "metadata": {
        "colab": {
          "base_uri": "https://localhost:8080/",
          "height": 195
        },
        "id": "Igev3Al6QLT3",
        "outputId": "a1fab80c-d62d-4481-b446-772bed6f6e94"
      },
      "source": [
        "df.head()"
      ],
      "execution_count": null,
      "outputs": [
        {
          "output_type": "execute_result",
          "data": {
            "text/html": [
              "<div>\n",
              "<style scoped>\n",
              "    .dataframe tbody tr th:only-of-type {\n",
              "        vertical-align: middle;\n",
              "    }\n",
              "\n",
              "    .dataframe tbody tr th {\n",
              "        vertical-align: top;\n",
              "    }\n",
              "\n",
              "    .dataframe thead th {\n",
              "        text-align: right;\n",
              "    }\n",
              "</style>\n",
              "<table border=\"1\" class=\"dataframe\">\n",
              "  <thead>\n",
              "    <tr style=\"text-align: right;\">\n",
              "      <th></th>\n",
              "      <th>year</th>\n",
              "      <th>level_1</th>\n",
              "      <th>level_2</th>\n",
              "      <th>value</th>\n",
              "    </tr>\n",
              "  </thead>\n",
              "  <tbody>\n",
              "    <tr>\n",
              "      <th>0</th>\n",
              "      <td>1970</td>\n",
              "      <td>Total Citizen</td>\n",
              "      <td>0  -  4 Years</td>\n",
              "      <td>226454</td>\n",
              "    </tr>\n",
              "    <tr>\n",
              "      <th>1</th>\n",
              "      <td>1970</td>\n",
              "      <td>Total Citizen</td>\n",
              "      <td>5  -  9 Years</td>\n",
              "      <td>267122</td>\n",
              "    </tr>\n",
              "    <tr>\n",
              "      <th>2</th>\n",
              "      <td>1970</td>\n",
              "      <td>Total Citizen</td>\n",
              "      <td>10 - 14 Years</td>\n",
              "      <td>273014</td>\n",
              "    </tr>\n",
              "    <tr>\n",
              "      <th>3</th>\n",
              "      <td>1970</td>\n",
              "      <td>Total Citizen</td>\n",
              "      <td>15 - 19 Years</td>\n",
              "      <td>227001</td>\n",
              "    </tr>\n",
              "    <tr>\n",
              "      <th>4</th>\n",
              "      <td>1970</td>\n",
              "      <td>Total Citizen</td>\n",
              "      <td>20 - 24 Years</td>\n",
              "      <td>175775</td>\n",
              "    </tr>\n",
              "  </tbody>\n",
              "</table>\n",
              "</div>"
            ],
            "text/plain": [
              "   year        level_1        level_2   value\n",
              "0  1970  Total Citizen  0  -  4 Years  226454\n",
              "1  1970  Total Citizen  5  -  9 Years  267122\n",
              "2  1970  Total Citizen  10 - 14 Years  273014\n",
              "3  1970  Total Citizen  15 - 19 Years  227001\n",
              "4  1970  Total Citizen  20 - 24 Years  175775"
            ]
          },
          "metadata": {
            "tags": []
          },
          "execution_count": 5
        }
      ]
    },
    {
      "cell_type": "code",
      "metadata": {
        "colab": {
          "base_uri": "https://localhost:8080/",
          "height": 195
        },
        "id": "ZieVOTLoQT5E",
        "outputId": "1bcab7e6-9193-4bc0-ab8d-6fef9ef2bfde"
      },
      "source": [
        "df.tail()"
      ],
      "execution_count": null,
      "outputs": [
        {
          "output_type": "execute_result",
          "data": {
            "text/html": [
              "<div>\n",
              "<style scoped>\n",
              "    .dataframe tbody tr th:only-of-type {\n",
              "        vertical-align: middle;\n",
              "    }\n",
              "\n",
              "    .dataframe tbody tr th {\n",
              "        vertical-align: top;\n",
              "    }\n",
              "\n",
              "    .dataframe thead th {\n",
              "        text-align: right;\n",
              "    }\n",
              "</style>\n",
              "<table border=\"1\" class=\"dataframe\">\n",
              "  <thead>\n",
              "    <tr style=\"text-align: right;\">\n",
              "      <th></th>\n",
              "      <th>year</th>\n",
              "      <th>level_1</th>\n",
              "      <th>level_2</th>\n",
              "      <th>value</th>\n",
              "    </tr>\n",
              "  </thead>\n",
              "  <tbody>\n",
              "    <tr>\n",
              "      <th>10225</th>\n",
              "      <td>2018</td>\n",
              "      <td>Other Ethnic Groups (Females)</td>\n",
              "      <td>65 Years &amp; Over</td>\n",
              "      <td>2590</td>\n",
              "    </tr>\n",
              "    <tr>\n",
              "      <th>10226</th>\n",
              "      <td>2018</td>\n",
              "      <td>Other Ethnic Groups (Females)</td>\n",
              "      <td>70 Years &amp; Over</td>\n",
              "      <td>1742</td>\n",
              "    </tr>\n",
              "    <tr>\n",
              "      <th>10227</th>\n",
              "      <td>2018</td>\n",
              "      <td>Other Ethnic Groups (Females)</td>\n",
              "      <td>75 Years &amp; Over</td>\n",
              "      <td>1200</td>\n",
              "    </tr>\n",
              "    <tr>\n",
              "      <th>10228</th>\n",
              "      <td>2018</td>\n",
              "      <td>Other Ethnic Groups (Females)</td>\n",
              "      <td>80 Years &amp; Over</td>\n",
              "      <td>775</td>\n",
              "    </tr>\n",
              "    <tr>\n",
              "      <th>10229</th>\n",
              "      <td>2018</td>\n",
              "      <td>Other Ethnic Groups (Females)</td>\n",
              "      <td>85 Years &amp; Over</td>\n",
              "      <td>416</td>\n",
              "    </tr>\n",
              "  </tbody>\n",
              "</table>\n",
              "</div>"
            ],
            "text/plain": [
              "       year                        level_1          level_2 value\n",
              "10225  2018  Other Ethnic Groups (Females)  65 Years & Over  2590\n",
              "10226  2018  Other Ethnic Groups (Females)  70 Years & Over  1742\n",
              "10227  2018  Other Ethnic Groups (Females)  75 Years & Over  1200\n",
              "10228  2018  Other Ethnic Groups (Females)  80 Years & Over   775\n",
              "10229  2018  Other Ethnic Groups (Females)  85 Years & Over   416"
            ]
          },
          "metadata": {
            "tags": []
          },
          "execution_count": 6
        }
      ]
    },
    {
      "cell_type": "code",
      "metadata": {
        "colab": {
          "base_uri": "https://localhost:8080/",
          "height": 254
        },
        "id": "xH1ScEeCQVD7",
        "outputId": "08b81f2e-fc6a-4ba6-af3e-fb4eb543b86c"
      },
      "source": [
        "df.sample(7)"
      ],
      "execution_count": null,
      "outputs": [
        {
          "output_type": "execute_result",
          "data": {
            "text/html": [
              "<div>\n",
              "<style scoped>\n",
              "    .dataframe tbody tr th:only-of-type {\n",
              "        vertical-align: middle;\n",
              "    }\n",
              "\n",
              "    .dataframe tbody tr th {\n",
              "        vertical-align: top;\n",
              "    }\n",
              "\n",
              "    .dataframe thead th {\n",
              "        text-align: right;\n",
              "    }\n",
              "</style>\n",
              "<table border=\"1\" class=\"dataframe\">\n",
              "  <thead>\n",
              "    <tr style=\"text-align: right;\">\n",
              "      <th></th>\n",
              "      <th>year</th>\n",
              "      <th>level_1</th>\n",
              "      <th>level_2</th>\n",
              "      <th>value</th>\n",
              "    </tr>\n",
              "  </thead>\n",
              "  <tbody>\n",
              "    <tr>\n",
              "      <th>9457</th>\n",
              "      <td>2016</td>\n",
              "      <td>Total Indians</td>\n",
              "      <td>75 Years &amp; Over</td>\n",
              "      <td>9550</td>\n",
              "    </tr>\n",
              "    <tr>\n",
              "      <th>2910</th>\n",
              "      <td>1996</td>\n",
              "      <td>Other Ethnic Groups (Total)</td>\n",
              "      <td>30 - 34 Years</td>\n",
              "      <td>2420</td>\n",
              "    </tr>\n",
              "    <tr>\n",
              "      <th>6367</th>\n",
              "      <td>2007</td>\n",
              "      <td>Total Male Malays</td>\n",
              "      <td>45 - 49 Years</td>\n",
              "      <td>20797</td>\n",
              "    </tr>\n",
              "    <tr>\n",
              "      <th>1798</th>\n",
              "      <td>1993</td>\n",
              "      <td>Total Chinese</td>\n",
              "      <td>80 - 84 Years</td>\n",
              "      <td>17790</td>\n",
              "    </tr>\n",
              "    <tr>\n",
              "      <th>3095</th>\n",
              "      <td>1997</td>\n",
              "      <td>Total Female Malays</td>\n",
              "      <td>75 - 79 Years</td>\n",
              "      <td>1643</td>\n",
              "    </tr>\n",
              "    <tr>\n",
              "      <th>1972</th>\n",
              "      <td>1993</td>\n",
              "      <td>Other Ethnic Groups (Females)</td>\n",
              "      <td>70 - 74 Years</td>\n",
              "      <td>356</td>\n",
              "    </tr>\n",
              "    <tr>\n",
              "      <th>9159</th>\n",
              "      <td>2015</td>\n",
              "      <td>Total Female Indians</td>\n",
              "      <td>35 - 39 Years</td>\n",
              "      <td>7590</td>\n",
              "    </tr>\n",
              "  </tbody>\n",
              "</table>\n",
              "</div>"
            ],
            "text/plain": [
              "      year                        level_1          level_2  value\n",
              "9457  2016                  Total Indians  75 Years & Over   9550\n",
              "2910  1996    Other Ethnic Groups (Total)    30 - 34 Years   2420\n",
              "6367  2007              Total Male Malays    45 - 49 Years  20797\n",
              "1798  1993                  Total Chinese    80 - 84 Years  17790\n",
              "3095  1997            Total Female Malays    75 - 79 Years   1643\n",
              "1972  1993  Other Ethnic Groups (Females)    70 - 74 Years    356\n",
              "9159  2015           Total Female Indians    35 - 39 Years   7590"
            ]
          },
          "metadata": {
            "tags": []
          },
          "execution_count": 8
        }
      ]
    },
    {
      "cell_type": "code",
      "metadata": {
        "colab": {
          "base_uri": "https://localhost:8080/"
        },
        "id": "tZAmR_cSQg6W",
        "outputId": "c4cbe35f-f3c7-46b8-e4cc-f0e67180225d"
      },
      "source": [
        "print(\"This is the shape of the dataset\")\n",
        "df.shape"
      ],
      "execution_count": null,
      "outputs": [
        {
          "output_type": "stream",
          "text": [
            "This is the shape of the dataset\n"
          ],
          "name": "stdout"
        },
        {
          "output_type": "execute_result",
          "data": {
            "text/plain": [
              "(10230, 4)"
            ]
          },
          "metadata": {
            "tags": []
          },
          "execution_count": 9
        }
      ]
    },
    {
      "cell_type": "code",
      "metadata": {
        "colab": {
          "base_uri": "https://localhost:8080/"
        },
        "id": "kLJlDppNQhLv",
        "outputId": "76d5833e-d206-447e-dcd5-8b66489bd34e"
      },
      "source": [
        "print(\"These are the columns in the datasets\")\n",
        "df.columns"
      ],
      "execution_count": null,
      "outputs": [
        {
          "output_type": "stream",
          "text": [
            "These are the columns in the datasets\n"
          ],
          "name": "stdout"
        },
        {
          "output_type": "execute_result",
          "data": {
            "text/plain": [
              "Index(['year', 'level_1', 'level_2', 'value'], dtype='object')"
            ]
          },
          "metadata": {
            "tags": []
          },
          "execution_count": 10
        }
      ]
    },
    {
      "cell_type": "code",
      "metadata": {
        "colab": {
          "base_uri": "https://localhost:8080/",
          "height": 301
        },
        "id": "h4kZvdNpQheE",
        "outputId": "f8f79780-da3a-47fc-b191-e6c6907c06cf"
      },
      "source": [
        "print(\"This is the description of the data\")\n",
        "df.describe()"
      ],
      "execution_count": null,
      "outputs": [
        {
          "output_type": "stream",
          "text": [
            "This is the description of the data\n"
          ],
          "name": "stdout"
        },
        {
          "output_type": "execute_result",
          "data": {
            "text/html": [
              "<div>\n",
              "<style scoped>\n",
              "    .dataframe tbody tr th:only-of-type {\n",
              "        vertical-align: middle;\n",
              "    }\n",
              "\n",
              "    .dataframe tbody tr th {\n",
              "        vertical-align: top;\n",
              "    }\n",
              "\n",
              "    .dataframe thead th {\n",
              "        text-align: right;\n",
              "    }\n",
              "</style>\n",
              "<table border=\"1\" class=\"dataframe\">\n",
              "  <thead>\n",
              "    <tr style=\"text-align: right;\">\n",
              "      <th></th>\n",
              "      <th>year</th>\n",
              "    </tr>\n",
              "  </thead>\n",
              "  <tbody>\n",
              "    <tr>\n",
              "      <th>count</th>\n",
              "      <td>10230.000000</td>\n",
              "    </tr>\n",
              "    <tr>\n",
              "      <th>mean</th>\n",
              "      <td>2002.129032</td>\n",
              "    </tr>\n",
              "    <tr>\n",
              "      <th>std</th>\n",
              "      <td>10.856604</td>\n",
              "    </tr>\n",
              "    <tr>\n",
              "      <th>min</th>\n",
              "      <td>1970.000000</td>\n",
              "    </tr>\n",
              "    <tr>\n",
              "      <th>25%</th>\n",
              "      <td>1995.000000</td>\n",
              "    </tr>\n",
              "    <tr>\n",
              "      <th>50%</th>\n",
              "      <td>2003.000000</td>\n",
              "    </tr>\n",
              "    <tr>\n",
              "      <th>75%</th>\n",
              "      <td>2011.000000</td>\n",
              "    </tr>\n",
              "    <tr>\n",
              "      <th>max</th>\n",
              "      <td>2018.000000</td>\n",
              "    </tr>\n",
              "  </tbody>\n",
              "</table>\n",
              "</div>"
            ],
            "text/plain": [
              "               year\n",
              "count  10230.000000\n",
              "mean    2002.129032\n",
              "std       10.856604\n",
              "min     1970.000000\n",
              "25%     1995.000000\n",
              "50%     2003.000000\n",
              "75%     2011.000000\n",
              "max     2018.000000"
            ]
          },
          "metadata": {
            "tags": []
          },
          "execution_count": 11
        }
      ]
    },
    {
      "cell_type": "code",
      "metadata": {
        "colab": {
          "base_uri": "https://localhost:8080/"
        },
        "id": "woApB0rOQhns",
        "outputId": "38b0570c-ac19-457e-f27f-0fad488fbf6b"
      },
      "source": [
        "print(\"This is the summary of the dataset\")\n",
        "df.info()"
      ],
      "execution_count": null,
      "outputs": [
        {
          "output_type": "stream",
          "text": [
            "This is the summary of the dataset\n",
            "<class 'pandas.core.frame.DataFrame'>\n",
            "RangeIndex: 10230 entries, 0 to 10229\n",
            "Data columns (total 4 columns):\n",
            " #   Column   Non-Null Count  Dtype \n",
            "---  ------   --------------  ----- \n",
            " 0   year     10230 non-null  int64 \n",
            " 1   level_1  10230 non-null  object\n",
            " 2   level_2  10230 non-null  object\n",
            " 3   value    10230 non-null  object\n",
            "dtypes: int64(1), object(3)\n",
            "memory usage: 319.8+ KB\n"
          ],
          "name": "stdout"
        }
      ]
    },
    {
      "cell_type": "code",
      "metadata": {
        "colab": {
          "base_uri": "https://localhost:8080/"
        },
        "id": "TnmjZUJMQ0px",
        "outputId": "cce9c35a-b43e-45ce-8f83-40c55331ca33"
      },
      "source": [
        "print(\"This defines the data types of the dataset\")\n",
        "df.dtypes"
      ],
      "execution_count": null,
      "outputs": [
        {
          "output_type": "stream",
          "text": [
            "This defines the data types of the dataset\n"
          ],
          "name": "stdout"
        },
        {
          "output_type": "execute_result",
          "data": {
            "text/plain": [
              "year        int64\n",
              "level_1    object\n",
              "level_2    object\n",
              "value      object\n",
              "dtype: object"
            ]
          },
          "metadata": {
            "tags": []
          },
          "execution_count": 13
        }
      ]
    },
    {
      "cell_type": "code",
      "metadata": {
        "colab": {
          "base_uri": "https://localhost:8080/",
          "height": 405
        },
        "id": "HftjL8MYQWaF",
        "outputId": "a7bf624d-4578-40bf-9c04-7727e2722a43"
      },
      "source": [
        "stats_2018 = df.query(\"(year == '2018') & (level_1 == 'Total Male Citizens')\")\n",
        "\n",
        "gender_group = stats_2018[\"level_1\"].drop_duplicates()\n",
        "Population = stats_2018[\"value\"]\n",
        "\n",
        "stats_2018[\"value\"] = stats_2018[\"value\"].apply(pd.to_numeric)\n",
        "\n",
        "ax = stats_2018.plot.bar(x='level_2', y='value', rot=0)"
      ],
      "execution_count": null,
      "outputs": [
        {
          "output_type": "stream",
          "text": [
            "/usr/local/lib/python3.6/dist-packages/ipykernel_launcher.py:6: SettingWithCopyWarning: \n",
            "A value is trying to be set on a copy of a slice from a DataFrame.\n",
            "Try using .loc[row_indexer,col_indexer] = value instead\n",
            "\n",
            "See the caveats in the documentation: https://pandas.pydata.org/pandas-docs/stable/user_guide/indexing.html#returning-a-view-versus-a-copy\n",
            "  \n"
          ],
          "name": "stderr"
        },
        {
          "output_type": "display_data",
          "data": {
            "image/png": "[encoded data removed]",
            "text/plain": [
              "<Figure size 432x288 with 1 Axes>"
            ]
          },
          "metadata": {
            "tags": [],
            "needs_background": "light"
          }
        }
      ]
    },
    {
      "cell_type": "code",
      "metadata": {
        "colab": {
          "base_uri": "https://localhost:8080/",
          "height": 280
        },
        "id": "TEm2CxmHQ2-b",
        "outputId": "b13620d3-ff98-4ecf-ec52-97c20b4c26eb"
      },
      "source": [
        "ax = sns.boxplot(x='level_1', y='value', data=stats_2018, color='#99c2a2')"
      ],
      "execution_count": null,
      "outputs": [
        {
          "output_type": "display_data",
          "data": {
            "image/png": "[encoded data removed]",
            "text/plain": [
              "<Figure size 432x288 with 1 Axes>"
            ]
          },
          "metadata": {
            "tags": [],
            "needs_background": "light"
          }
        }
      ]
    },
    {
      "cell_type": "code",
      "metadata": {
        "colab": {
          "base_uri": "https://localhost:8080/",
          "height": 195
        },
        "id": "8ftHrUd9Roz2",
        "outputId": "4055cdcf-b935-487b-9756-fecc3a4a1396"
      },
      "source": [
        "df.head()"
      ],
      "execution_count": null,
      "outputs": [
        {
          "output_type": "execute_result",
          "data": {
            "text/html": [
              "<div>\n",
              "<style scoped>\n",
              "    .dataframe tbody tr th:only-of-type {\n",
              "        vertical-align: middle;\n",
              "    }\n",
              "\n",
              "    .dataframe tbody tr th {\n",
              "        vertical-align: top;\n",
              "    }\n",
              "\n",
              "    .dataframe thead th {\n",
              "        text-align: right;\n",
              "    }\n",
              "</style>\n",
              "<table border=\"1\" class=\"dataframe\">\n",
              "  <thead>\n",
              "    <tr style=\"text-align: right;\">\n",
              "      <th></th>\n",
              "      <th>year</th>\n",
              "      <th>level_1</th>\n",
              "      <th>level_2</th>\n",
              "      <th>value</th>\n",
              "    </tr>\n",
              "  </thead>\n",
              "  <tbody>\n",
              "    <tr>\n",
              "      <th>0</th>\n",
              "      <td>1970</td>\n",
              "      <td>Total Citizen</td>\n",
              "      <td>0  -  4 Years</td>\n",
              "      <td>226454</td>\n",
              "    </tr>\n",
              "    <tr>\n",
              "      <th>1</th>\n",
              "      <td>1970</td>\n",
              "      <td>Total Citizen</td>\n",
              "      <td>5  -  9 Years</td>\n",
              "      <td>267122</td>\n",
              "    </tr>\n",
              "    <tr>\n",
              "      <th>2</th>\n",
              "      <td>1970</td>\n",
              "      <td>Total Citizen</td>\n",
              "      <td>10 - 14 Years</td>\n",
              "      <td>273014</td>\n",
              "    </tr>\n",
              "    <tr>\n",
              "      <th>3</th>\n",
              "      <td>1970</td>\n",
              "      <td>Total Citizen</td>\n",
              "      <td>15 - 19 Years</td>\n",
              "      <td>227001</td>\n",
              "    </tr>\n",
              "    <tr>\n",
              "      <th>4</th>\n",
              "      <td>1970</td>\n",
              "      <td>Total Citizen</td>\n",
              "      <td>20 - 24 Years</td>\n",
              "      <td>175775</td>\n",
              "    </tr>\n",
              "  </tbody>\n",
              "</table>\n",
              "</div>"
            ],
            "text/plain": [
              "   year        level_1        level_2   value\n",
              "0  1970  Total Citizen  0  -  4 Years  226454\n",
              "1  1970  Total Citizen  5  -  9 Years  267122\n",
              "2  1970  Total Citizen  10 - 14 Years  273014\n",
              "3  1970  Total Citizen  15 - 19 Years  227001\n",
              "4  1970  Total Citizen  20 - 24 Years  175775"
            ]
          },
          "metadata": {
            "tags": []
          },
          "execution_count": 16
        }
      ]
    },
    {
      "cell_type": "code",
      "metadata": {
        "id": "auOw3BOoW-2f"
      },
      "source": [
        "df1=df.iloc[:,[0,-1]]"
      ],
      "execution_count": null,
      "outputs": []
    },
    {
      "cell_type": "code",
      "metadata": {
        "colab": {
          "base_uri": "https://localhost:8080/",
          "height": 195
        },
        "id": "F4C0b4ZeXjo4",
        "outputId": "5a66e3de-3962-4cf4-dcd6-ebdf933c188c"
      },
      "source": [
        "df1.head()"
      ],
      "execution_count": null,
      "outputs": [
        {
          "output_type": "execute_result",
          "data": {
            "text/html": [
              "<div>\n",
              "<style scoped>\n",
              "    .dataframe tbody tr th:only-of-type {\n",
              "        vertical-align: middle;\n",
              "    }\n",
              "\n",
              "    .dataframe tbody tr th {\n",
              "        vertical-align: top;\n",
              "    }\n",
              "\n",
              "    .dataframe thead th {\n",
              "        text-align: right;\n",
              "    }\n",
              "</style>\n",
              "<table border=\"1\" class=\"dataframe\">\n",
              "  <thead>\n",
              "    <tr style=\"text-align: right;\">\n",
              "      <th></th>\n",
              "      <th>year</th>\n",
              "      <th>value</th>\n",
              "    </tr>\n",
              "  </thead>\n",
              "  <tbody>\n",
              "    <tr>\n",
              "      <th>0</th>\n",
              "      <td>1970</td>\n",
              "      <td>226454</td>\n",
              "    </tr>\n",
              "    <tr>\n",
              "      <th>1</th>\n",
              "      <td>1970</td>\n",
              "      <td>267122</td>\n",
              "    </tr>\n",
              "    <tr>\n",
              "      <th>2</th>\n",
              "      <td>1970</td>\n",
              "      <td>273014</td>\n",
              "    </tr>\n",
              "    <tr>\n",
              "      <th>3</th>\n",
              "      <td>1970</td>\n",
              "      <td>227001</td>\n",
              "    </tr>\n",
              "    <tr>\n",
              "      <th>4</th>\n",
              "      <td>1970</td>\n",
              "      <td>175775</td>\n",
              "    </tr>\n",
              "  </tbody>\n",
              "</table>\n",
              "</div>"
            ],
            "text/plain": [
              "   year   value\n",
              "0  1970  226454\n",
              "1  1970  267122\n",
              "2  1970  273014\n",
              "3  1970  227001\n",
              "4  1970  175775"
            ]
          },
          "metadata": {
            "tags": []
          },
          "execution_count": 18
        }
      ]
    },
    {
      "cell_type": "code",
      "metadata": {
        "id": "VqbP5_zBXlNF"
      },
      "source": [
        "df1=df1[df1.value!=\"na\"]"
      ],
      "execution_count": null,
      "outputs": []
    },
    {
      "cell_type": "code",
      "metadata": {
        "id": "fNnjBoc4Xp2g"
      },
      "source": [
        "df1.value=df1.value.astype(\"int64\")"
      ],
      "execution_count": null,
      "outputs": []
    },
    {
      "cell_type": "code",
      "metadata": {
        "colab": {
          "base_uri": "https://localhost:8080/",
          "height": 994
        },
        "id": "NuD1LIMhX71i",
        "outputId": "169a4b83-128a-407d-f31f-ef497f7501b2"
      },
      "source": [
        "df1.groupby([\"year\"]).sum()"
      ],
      "execution_count": null,
      "outputs": [
        {
          "output_type": "execute_result",
          "data": {
            "text/html": [
              "<div>\n",
              "<style scoped>\n",
              "    .dataframe tbody tr th:only-of-type {\n",
              "        vertical-align: middle;\n",
              "    }\n",
              "\n",
              "    .dataframe tbody tr th {\n",
              "        vertical-align: top;\n",
              "    }\n",
              "\n",
              "    .dataframe thead th {\n",
              "        text-align: right;\n",
              "    }\n",
              "</style>\n",
              "<table border=\"1\" class=\"dataframe\">\n",
              "  <thead>\n",
              "    <tr style=\"text-align: right;\">\n",
              "      <th></th>\n",
              "      <th>value</th>\n",
              "    </tr>\n",
              "    <tr>\n",
              "      <th>year</th>\n",
              "      <th></th>\n",
              "    </tr>\n",
              "  </thead>\n",
              "  <tbody>\n",
              "    <tr>\n",
              "      <th>1970</th>\n",
              "      <td>7920920</td>\n",
              "    </tr>\n",
              "    <tr>\n",
              "      <th>1980</th>\n",
              "      <td>9592892</td>\n",
              "    </tr>\n",
              "    <tr>\n",
              "      <th>1990</th>\n",
              "      <td>11855908</td>\n",
              "    </tr>\n",
              "    <tr>\n",
              "      <th>1991</th>\n",
              "      <td>12066869</td>\n",
              "    </tr>\n",
              "    <tr>\n",
              "      <th>1992</th>\n",
              "      <td>12272162</td>\n",
              "    </tr>\n",
              "    <tr>\n",
              "      <th>1993</th>\n",
              "      <td>12488410</td>\n",
              "    </tr>\n",
              "    <tr>\n",
              "      <th>1994</th>\n",
              "      <td>12703747</td>\n",
              "    </tr>\n",
              "    <tr>\n",
              "      <th>1995</th>\n",
              "      <td>12912096</td>\n",
              "    </tr>\n",
              "    <tr>\n",
              "      <th>1996</th>\n",
              "      <td>13103274</td>\n",
              "    </tr>\n",
              "    <tr>\n",
              "      <th>1997</th>\n",
              "      <td>13296430</td>\n",
              "    </tr>\n",
              "    <tr>\n",
              "      <th>1998</th>\n",
              "      <td>13497780</td>\n",
              "    </tr>\n",
              "    <tr>\n",
              "      <th>1999</th>\n",
              "      <td>13676819</td>\n",
              "    </tr>\n",
              "    <tr>\n",
              "      <th>2000</th>\n",
              "      <td>13858160</td>\n",
              "    </tr>\n",
              "    <tr>\n",
              "      <th>2001</th>\n",
              "      <td>14065672</td>\n",
              "    </tr>\n",
              "    <tr>\n",
              "      <th>2002</th>\n",
              "      <td>14258292</td>\n",
              "    </tr>\n",
              "    <tr>\n",
              "      <th>2003</th>\n",
              "      <td>14237508</td>\n",
              "    </tr>\n",
              "    <tr>\n",
              "      <th>2004</th>\n",
              "      <td>14467828</td>\n",
              "    </tr>\n",
              "    <tr>\n",
              "      <th>2005</th>\n",
              "      <td>14691308</td>\n",
              "    </tr>\n",
              "    <tr>\n",
              "      <th>2006</th>\n",
              "      <td>14914820</td>\n",
              "    </tr>\n",
              "    <tr>\n",
              "      <th>2007</th>\n",
              "      <td>15116832</td>\n",
              "    </tr>\n",
              "    <tr>\n",
              "      <th>2008</th>\n",
              "      <td>15350632</td>\n",
              "    </tr>\n",
              "    <tr>\n",
              "      <th>2009</th>\n",
              "      <td>15644352</td>\n",
              "    </tr>\n",
              "    <tr>\n",
              "      <th>2010</th>\n",
              "      <td>15890704</td>\n",
              "    </tr>\n",
              "    <tr>\n",
              "      <th>2011</th>\n",
              "      <td>16140256</td>\n",
              "    </tr>\n",
              "    <tr>\n",
              "      <th>2012</th>\n",
              "      <td>16424992</td>\n",
              "    </tr>\n",
              "    <tr>\n",
              "      <th>2013</th>\n",
              "      <td>16716520</td>\n",
              "    </tr>\n",
              "    <tr>\n",
              "      <th>2014</th>\n",
              "      <td>17045808</td>\n",
              "    </tr>\n",
              "    <tr>\n",
              "      <th>2015</th>\n",
              "      <td>17371160</td>\n",
              "    </tr>\n",
              "    <tr>\n",
              "      <th>2016</th>\n",
              "      <td>17721176</td>\n",
              "    </tr>\n",
              "    <tr>\n",
              "      <th>2017</th>\n",
              "      <td>18087460</td>\n",
              "    </tr>\n",
              "    <tr>\n",
              "      <th>2018</th>\n",
              "      <td>18476652</td>\n",
              "    </tr>\n",
              "  </tbody>\n",
              "</table>\n",
              "</div>"
            ],
            "text/plain": [
              "         value\n",
              "year          \n",
              "1970   7920920\n",
              "1980   9592892\n",
              "1990  11855908\n",
              "1991  12066869\n",
              "1992  12272162\n",
              "1993  12488410\n",
              "1994  12703747\n",
              "1995  12912096\n",
              "1996  13103274\n",
              "1997  13296430\n",
              "1998  13497780\n",
              "1999  13676819\n",
              "2000  13858160\n",
              "2001  14065672\n",
              "2002  14258292\n",
              "2003  14237508\n",
              "2004  14467828\n",
              "2005  14691308\n",
              "2006  14914820\n",
              "2007  15116832\n",
              "2008  15350632\n",
              "2009  15644352\n",
              "2010  15890704\n",
              "2011  16140256\n",
              "2012  16424992\n",
              "2013  16716520\n",
              "2014  17045808\n",
              "2015  17371160\n",
              "2016  17721176\n",
              "2017  18087460\n",
              "2018  18476652"
            ]
          },
          "metadata": {
            "tags": []
          },
          "execution_count": 23
        }
      ]
    },
    {
      "cell_type": "code",
      "metadata": {
        "colab": {
          "base_uri": "https://localhost:8080/",
          "height": 350
        },
        "id": "PyaKMP-3YAkr",
        "outputId": "70c44141-b279-44e2-cfeb-46e5b1890cbc"
      },
      "source": [
        "df1.groupby([\"year\"]).sum().plot(kind=\"barh\",color=\"brg\")"
      ],
      "execution_count": null,
      "outputs": [
        {
          "output_type": "stream",
          "text": [
            "/usr/local/lib/python3.6/dist-packages/pandas/plotting/_matplotlib/core.py:1490: MatplotlibDeprecationWarning: Using a string of single character colors as a color sequence is deprecated. Use an explicit list instead.\n",
            "  return ax.barh(x, y, w, left=start, log=log, **kwds)\n"
          ],
          "name": "stderr"
        },
        {
          "output_type": "execute_result",
          "data": {
            "text/plain": [
              "<matplotlib.axes._subplots.AxesSubplot at 0x7ff42f332eb8>"
            ]
          },
          "metadata": {
            "tags": []
          },
          "execution_count": 24
        },
        {
          "output_type": "display_data",
          "data": {
            "image/png": "[encoded data removed]",
            "text/plain": [
              "<Figure size 432x288 with 1 Axes>"
            ]
          },
          "metadata": {
            "tags": [],
            "needs_background": "light"
          }
        }
      ]
    },
    {
      "cell_type": "code",
      "metadata": {
        "colab": {
          "base_uri": "https://localhost:8080/",
          "height": 254
        },
        "id": "AUJeStpiYKnC",
        "outputId": "d6274119-2fa4-4c23-9ee1-9093cd32a532"
      },
      "source": [
        "df.sample(7)"
      ],
      "execution_count": null,
      "outputs": [
        {
          "output_type": "execute_result",
          "data": {
            "text/html": [
              "<div>\n",
              "<style scoped>\n",
              "    .dataframe tbody tr th:only-of-type {\n",
              "        vertical-align: middle;\n",
              "    }\n",
              "\n",
              "    .dataframe tbody tr th {\n",
              "        vertical-align: top;\n",
              "    }\n",
              "\n",
              "    .dataframe thead th {\n",
              "        text-align: right;\n",
              "    }\n",
              "</style>\n",
              "<table border=\"1\" class=\"dataframe\">\n",
              "  <thead>\n",
              "    <tr style=\"text-align: right;\">\n",
              "      <th></th>\n",
              "      <th>year</th>\n",
              "      <th>level_1</th>\n",
              "      <th>level_2</th>\n",
              "      <th>value</th>\n",
              "    </tr>\n",
              "  </thead>\n",
              "  <tbody>\n",
              "    <tr>\n",
              "      <th>1342</th>\n",
              "      <td>1992</td>\n",
              "      <td>Total Male Citizens</td>\n",
              "      <td>0  -  4 Years</td>\n",
              "      <td>122467</td>\n",
              "    </tr>\n",
              "    <tr>\n",
              "      <th>6491</th>\n",
              "      <td>2007</td>\n",
              "      <td>Total Male Indians</td>\n",
              "      <td>5  -  9 Years</td>\n",
              "      <td>8693</td>\n",
              "    </tr>\n",
              "    <tr>\n",
              "      <th>7252</th>\n",
              "      <td>2009</td>\n",
              "      <td>Other Ethnic Groups (Females)</td>\n",
              "      <td>70 - 74 Years</td>\n",
              "      <td>498</td>\n",
              "    </tr>\n",
              "    <tr>\n",
              "      <th>3974</th>\n",
              "      <td>2000</td>\n",
              "      <td>Total Citizen</td>\n",
              "      <td>70 - 74 Years</td>\n",
              "      <td>63318</td>\n",
              "    </tr>\n",
              "    <tr>\n",
              "      <th>6500</th>\n",
              "      <td>2007</td>\n",
              "      <td>Total Male Indians</td>\n",
              "      <td>50 - 54 Years</td>\n",
              "      <td>8773</td>\n",
              "    </tr>\n",
              "    <tr>\n",
              "      <th>6194</th>\n",
              "      <td>2006</td>\n",
              "      <td>Total Female Indians</td>\n",
              "      <td>60 - 64 Years</td>\n",
              "      <td>3251</td>\n",
              "    </tr>\n",
              "    <tr>\n",
              "      <th>2232</th>\n",
              "      <td>1994</td>\n",
              "      <td>Total Female Indians</td>\n",
              "      <td>50 - 54 Years</td>\n",
              "      <td>3566</td>\n",
              "    </tr>\n",
              "  </tbody>\n",
              "</table>\n",
              "</div>"
            ],
            "text/plain": [
              "      year                        level_1        level_2   value\n",
              "1342  1992            Total Male Citizens  0  -  4 Years  122467\n",
              "6491  2007             Total Male Indians  5  -  9 Years    8693\n",
              "7252  2009  Other Ethnic Groups (Females)  70 - 74 Years     498\n",
              "3974  2000                  Total Citizen  70 - 74 Years   63318\n",
              "6500  2007             Total Male Indians  50 - 54 Years    8773\n",
              "6194  2006           Total Female Indians  60 - 64 Years    3251\n",
              "2232  1994           Total Female Indians  50 - 54 Years    3566"
            ]
          },
          "metadata": {
            "tags": []
          },
          "execution_count": 26
        }
      ]
    },
    {
      "cell_type": "code",
      "metadata": {
        "colab": {
          "base_uri": "https://localhost:8080/",
          "height": 106
        },
        "id": "zpK-oFQqYgh9",
        "outputId": "849b79e7-8403-4fe2-9987-b25baf23f1ba"
      },
      "source": [
        "df2=df.iloc[:,[2,3]]\n",
        "df2.head(2)"
      ],
      "execution_count": null,
      "outputs": [
        {
          "output_type": "execute_result",
          "data": {
            "text/html": [
              "<div>\n",
              "<style scoped>\n",
              "    .dataframe tbody tr th:only-of-type {\n",
              "        vertical-align: middle;\n",
              "    }\n",
              "\n",
              "    .dataframe tbody tr th {\n",
              "        vertical-align: top;\n",
              "    }\n",
              "\n",
              "    .dataframe thead th {\n",
              "        text-align: right;\n",
              "    }\n",
              "</style>\n",
              "<table border=\"1\" class=\"dataframe\">\n",
              "  <thead>\n",
              "    <tr style=\"text-align: right;\">\n",
              "      <th></th>\n",
              "      <th>level_2</th>\n",
              "      <th>value</th>\n",
              "    </tr>\n",
              "  </thead>\n",
              "  <tbody>\n",
              "    <tr>\n",
              "      <th>0</th>\n",
              "      <td>0  -  4 Years</td>\n",
              "      <td>226454</td>\n",
              "    </tr>\n",
              "    <tr>\n",
              "      <th>1</th>\n",
              "      <td>5  -  9 Years</td>\n",
              "      <td>267122</td>\n",
              "    </tr>\n",
              "  </tbody>\n",
              "</table>\n",
              "</div>"
            ],
            "text/plain": [
              "         level_2   value\n",
              "0  0  -  4 Years  226454\n",
              "1  5  -  9 Years  267122"
            ]
          },
          "metadata": {
            "tags": []
          },
          "execution_count": 27
        }
      ]
    },
    {
      "cell_type": "code",
      "metadata": {
        "id": "02ZMga6nYtSk"
      },
      "source": [
        "df2=df2[df2.value!=\"na\"]"
      ],
      "execution_count": null,
      "outputs": []
    },
    {
      "cell_type": "code",
      "metadata": {
        "id": "MB3eJbylY1U0"
      },
      "source": [
        "df2.value=df2.value.astype(\"int\")"
      ],
      "execution_count": null,
      "outputs": []
    },
    {
      "cell_type": "code",
      "metadata": {
        "colab": {
          "base_uri": "https://localhost:8080/",
          "height": 728
        },
        "id": "Qiv0uDRcY6k8",
        "outputId": "2bd7ec5f-0318-4c87-be74-52c3cb579f30"
      },
      "source": [
        "df2.groupby([\"level_2\"]).sum()"
      ],
      "execution_count": null,
      "outputs": [
        {
          "output_type": "execute_result",
          "data": {
            "text/html": [
              "<div>\n",
              "<style scoped>\n",
              "    .dataframe tbody tr th:only-of-type {\n",
              "        vertical-align: middle;\n",
              "    }\n",
              "\n",
              "    .dataframe tbody tr th {\n",
              "        vertical-align: top;\n",
              "    }\n",
              "\n",
              "    .dataframe thead th {\n",
              "        text-align: right;\n",
              "    }\n",
              "</style>\n",
              "<table border=\"1\" class=\"dataframe\">\n",
              "  <thead>\n",
              "    <tr style=\"text-align: right;\">\n",
              "      <th></th>\n",
              "      <th>value</th>\n",
              "    </tr>\n",
              "    <tr>\n",
              "      <th>level_2</th>\n",
              "      <th></th>\n",
              "    </tr>\n",
              "  </thead>\n",
              "  <tbody>\n",
              "    <tr>\n",
              "      <th>0  -  4 Years</th>\n",
              "      <td>24213258</td>\n",
              "    </tr>\n",
              "    <tr>\n",
              "      <th>10 - 14 Years</th>\n",
              "      <td>26432027</td>\n",
              "    </tr>\n",
              "    <tr>\n",
              "      <th>15 - 19 Years</th>\n",
              "      <td>27059441</td>\n",
              "    </tr>\n",
              "    <tr>\n",
              "      <th>20 - 24 Years</th>\n",
              "      <td>27064539</td>\n",
              "    </tr>\n",
              "    <tr>\n",
              "      <th>25 - 29 Years</th>\n",
              "      <td>27244832</td>\n",
              "    </tr>\n",
              "    <tr>\n",
              "      <th>30 - 34 Years</th>\n",
              "      <td>28632839</td>\n",
              "    </tr>\n",
              "    <tr>\n",
              "      <th>35 - 39 Years</th>\n",
              "      <td>29854100</td>\n",
              "    </tr>\n",
              "    <tr>\n",
              "      <th>40 - 44 Years</th>\n",
              "      <td>30184837</td>\n",
              "    </tr>\n",
              "    <tr>\n",
              "      <th>45 - 49 Years</th>\n",
              "      <td>28235033</td>\n",
              "    </tr>\n",
              "    <tr>\n",
              "      <th>5  -  9 Years</th>\n",
              "      <td>25677857</td>\n",
              "    </tr>\n",
              "    <tr>\n",
              "      <th>50 - 54 Years</th>\n",
              "      <td>25420288</td>\n",
              "    </tr>\n",
              "    <tr>\n",
              "      <th>55 - 59 Years</th>\n",
              "      <td>21371499</td>\n",
              "    </tr>\n",
              "    <tr>\n",
              "      <th>60 - 64 Years</th>\n",
              "      <td>16852075</td>\n",
              "    </tr>\n",
              "    <tr>\n",
              "      <th>65 - 69 Years</th>\n",
              "      <td>12523689</td>\n",
              "    </tr>\n",
              "    <tr>\n",
              "      <th>65 Years &amp; Over</th>\n",
              "      <td>33767397</td>\n",
              "    </tr>\n",
              "    <tr>\n",
              "      <th>70 - 74 Years</th>\n",
              "      <td>8778685</td>\n",
              "    </tr>\n",
              "    <tr>\n",
              "      <th>70 Years &amp; Over</th>\n",
              "      <td>21243707</td>\n",
              "    </tr>\n",
              "    <tr>\n",
              "      <th>75 - 79 Years</th>\n",
              "      <td>6062036</td>\n",
              "    </tr>\n",
              "    <tr>\n",
              "      <th>75 Years &amp; Over</th>\n",
              "      <td>12465037</td>\n",
              "    </tr>\n",
              "    <tr>\n",
              "      <th>80 - 84 Years</th>\n",
              "      <td>3632291</td>\n",
              "    </tr>\n",
              "    <tr>\n",
              "      <th>80 Years &amp; Over</th>\n",
              "      <td>6403002</td>\n",
              "    </tr>\n",
              "    <tr>\n",
              "      <th>85 Years &amp; Over</th>\n",
              "      <td>2748970</td>\n",
              "    </tr>\n",
              "  </tbody>\n",
              "</table>\n",
              "</div>"
            ],
            "text/plain": [
              "                    value\n",
              "level_2                  \n",
              "0  -  4 Years    24213258\n",
              "10 - 14 Years    26432027\n",
              "15 - 19 Years    27059441\n",
              "20 - 24 Years    27064539\n",
              "25 - 29 Years    27244832\n",
              "30 - 34 Years    28632839\n",
              "35 - 39 Years    29854100\n",
              "40 - 44 Years    30184837\n",
              "45 - 49 Years    28235033\n",
              "5  -  9 Years    25677857\n",
              "50 - 54 Years    25420288\n",
              "55 - 59 Years    21371499\n",
              "60 - 64 Years    16852075\n",
              "65 - 69 Years    12523689\n",
              "65 Years & Over  33767397\n",
              "70 - 74 Years     8778685\n",
              "70 Years & Over  21243707\n",
              "75 - 79 Years     6062036\n",
              "75 Years & Over  12465037\n",
              "80 - 84 Years     3632291\n",
              "80 Years & Over   6403002\n",
              "85 Years & Over   2748970"
            ]
          },
          "metadata": {
            "tags": []
          },
          "execution_count": 30
        }
      ]
    },
    {
      "cell_type": "code",
      "metadata": {
        "colab": {
          "base_uri": "https://localhost:8080/",
          "height": 308
        },
        "id": "UkadHKsvZAcQ",
        "outputId": "0f6c7080-6197-4139-a0e6-ea8fe291bddd"
      },
      "source": [
        "df2.groupby([\"level_2\"]).sum().plot()"
      ],
      "execution_count": null,
      "outputs": [
        {
          "output_type": "execute_result",
          "data": {
            "text/plain": [
              "<matplotlib.axes._subplots.AxesSubplot at 0x7ff42f18d6d8>"
            ]
          },
          "metadata": {
            "tags": []
          },
          "execution_count": 31
        },
        {
          "output_type": "display_data",
          "data": {
            "image/png": "[encoded data removed]",
            "text/plain": [
              "<Figure size 432x288 with 1 Axes>"
            ]
          },
          "metadata": {
            "tags": [],
            "needs_background": "light"
          }
        }
      ]
    },
    {
      "cell_type": "markdown",
      "metadata": {
        "id": "RayNYQ_nakws"
      },
      "source": [
        "#Detail description of data"
      ]
    },
    {
      "cell_type": "markdown",
      "metadata": {
        "id": "MLmRFqjcaq_9"
      },
      "source": [
        "df variable stores the population of Singapore residents categorized by age, ethnic group and gender. stat_2018 selects only the stats from 2018 of male and female Singaporean citizens and their population. This data is visualized in two ways - with a bar chart and a box-plot diagram. The box plot diagram gives us the statistical indicators such as mean, median and mode. The bar chart shows the trend of our data set over the age groups of the male citizens in Singapore. Level_2 attribute is the age ranges and the level_1 attribute constitutes the ethnic and gender categories of the Singaporean population. Value stores the population count."
      ]
    },
    {
      "cell_type": "code",
      "metadata": {
        "id": "O_SUwsJ-a9YH"
      },
      "source": [
        ""
      ],
      "execution_count": null,
      "outputs": []
    }
  ]
}