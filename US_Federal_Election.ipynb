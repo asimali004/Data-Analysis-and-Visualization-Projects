{
  "nbformat": 4,
  "nbformat_minor": 0,
  "metadata": {
    "accelerator": "TPU",
    "colab": {
      "name": "US Federal Election.ipynb",
      "provenance": [],
      "collapsed_sections": []
    },
    "kernelspec": {
      "display_name": "Python 3",
      "name": "python3"
    }
  },
  "cells": [
    {
      "cell_type": "code",
      "metadata": {
        "id": "dOEwvX8ndBid",
        "colab": {
          "base_uri": "https://localhost:8080/"
        },
        "outputId": "ba14a1e5-1c75-44a6-98f4-f1001bb4bdd6"
      },
      "source": [
        "from google.colab import drive\n",
        "drive.mount(\"/content/gdrive\")"
      ],
      "execution_count": null,
      "outputs": [
        {
          "output_type": "stream",
          "text": [
            "Drive already mounted at /content/gdrive; to attempt to forcibly remount, call drive.mount(\"/content/gdrive\", force_remount=True).\n"
          ],
          "name": "stdout"
        }
      ]
    },
    {
      "cell_type": "code",
      "metadata": {
        "id": "FePVC360zztx"
      },
      "source": [
        "import numpy as np\n",
        "import pandas as pd"
      ],
      "execution_count": null,
      "outputs": []
    },
    {
      "cell_type": "code",
      "metadata": {
        "id": "ac0c5-nFz0Ks",
        "colab": {
          "base_uri": "https://localhost:8080/",
          "height": 215
        },
        "outputId": "ae410050-7728-4282-8c64-8a8b6cfe35ef"
      },
      "source": [
        "candidates = pd.read_csv(\"/content/gdrive/MyDrive/candidates.txt\", sep='|', usecols=[0,1,2,3,4,5,9], names=['CAND_ID', 'CAND_NAME', 'CAND_PTY_AFFILIATION', 'CAND_ELECTION_YR', 'CAND_OFFICE_ST', 'CAND_OFFICE','CAND_PCC'])\n",
        "candidates = candidates[candidates[\"CAND_ELECTION_YR\"]==2020]\n",
        "del candidates['CAND_ELECTION_YR']\n",
        "print(candidates.shape)\n",
        "candidates.head()"
      ],
      "execution_count": null,
      "outputs": [
        {
          "output_type": "stream",
          "text": [
            "(5050, 6)\n"
          ],
          "name": "stdout"
        },
        {
          "output_type": "execute_result",
          "data": {
            "text/html": [
              "<div>\n",
              "<style scoped>\n",
              "    .dataframe tbody tr th:only-of-type {\n",
              "        vertical-align: middle;\n",
              "    }\n",
              "\n",
              "    .dataframe tbody tr th {\n",
              "        vertical-align: top;\n",
              "    }\n",
              "\n",
              "    .dataframe thead th {\n",
              "        text-align: right;\n",
              "    }\n",
              "</style>\n",
              "<table border=\"1\" class=\"dataframe\">\n",
              "  <thead>\n",
              "    <tr style=\"text-align: right;\">\n",
              "      <th></th>\n",
              "      <th>CAND_ID</th>\n",
              "      <th>CAND_NAME</th>\n",
              "      <th>CAND_PTY_AFFILIATION</th>\n",
              "      <th>CAND_OFFICE_ST</th>\n",
              "      <th>CAND_OFFICE</th>\n",
              "      <th>CAND_PCC</th>\n",
              "    </tr>\n",
              "  </thead>\n",
              "  <tbody>\n",
              "    <tr>\n",
              "      <th>0</th>\n",
              "      <td>H0AK00105</td>\n",
              "      <td>LAMB, THOMAS</td>\n",
              "      <td>NNE</td>\n",
              "      <td>AK</td>\n",
              "      <td>H</td>\n",
              "      <td>C00607515</td>\n",
              "    </tr>\n",
              "    <tr>\n",
              "      <th>1</th>\n",
              "      <td>H0AK00113</td>\n",
              "      <td>TUGATUK, RAY SEAN</td>\n",
              "      <td>DEM</td>\n",
              "      <td>AK</td>\n",
              "      <td>H</td>\n",
              "      <td>NaN</td>\n",
              "    </tr>\n",
              "    <tr>\n",
              "      <th>2</th>\n",
              "      <td>H0AK01046</td>\n",
              "      <td>CATALANO, THOMAS</td>\n",
              "      <td>OTH</td>\n",
              "      <td>AK</td>\n",
              "      <td>H</td>\n",
              "      <td>NaN</td>\n",
              "    </tr>\n",
              "    <tr>\n",
              "      <th>3</th>\n",
              "      <td>H0AL01055</td>\n",
              "      <td>CARL, JERRY LEE, JR</td>\n",
              "      <td>REP</td>\n",
              "      <td>AL</td>\n",
              "      <td>H</td>\n",
              "      <td>C00697789</td>\n",
              "    </tr>\n",
              "    <tr>\n",
              "      <th>4</th>\n",
              "      <td>H0AL01063</td>\n",
              "      <td>LAMBERT, DOUGLAS WESTLEY III</td>\n",
              "      <td>REP</td>\n",
              "      <td>AL</td>\n",
              "      <td>H</td>\n",
              "      <td>C00701557</td>\n",
              "    </tr>\n",
              "  </tbody>\n",
              "</table>\n",
              "</div>"
            ],
            "text/plain": [
              "     CAND_ID                     CAND_NAME  ... CAND_OFFICE   CAND_PCC\n",
              "0  H0AK00105                  LAMB, THOMAS  ...           H  C00607515\n",
              "1  H0AK00113             TUGATUK, RAY SEAN  ...           H        NaN\n",
              "2  H0AK01046              CATALANO, THOMAS  ...           H        NaN\n",
              "3  H0AL01055           CARL, JERRY LEE, JR  ...           H  C00697789\n",
              "4  H0AL01063  LAMBERT, DOUGLAS WESTLEY III  ...           H  C00701557\n",
              "\n",
              "[5 rows x 6 columns]"
            ]
          },
          "metadata": {
            "tags": []
          },
          "execution_count": 3
        }
      ]
    },
    {
      "cell_type": "code",
      "metadata": {
        "id": "_Fmod0GZzylQ",
        "colab": {
          "base_uri": "https://localhost:8080/",
          "height": 215
        },
        "outputId": "dac8b2ef-decc-4ec3-d9f0-992f87f81e1b"
      },
      "source": [
        "committees = pd.read_csv(\"/content/gdrive/My Drive/committees.txt\", sep='|', usecols = [0,1,6,8,9,10,12,14], names=['CMTE_ID', 'CMTE_NM', 'CMTE_ST', 'CMTE_DSGN', 'CMTE_TP', 'CMTE_PTY_AFFILIATION', 'ORG_TP', 'CAND_ID'])\n",
        "print(committees.shape)\n",
        "committees.head()"
      ],
      "execution_count": null,
      "outputs": [
        {
          "output_type": "stream",
          "text": [
            "(17605, 8)\n"
          ],
          "name": "stdout"
        },
        {
          "output_type": "execute_result",
          "data": {
            "text/html": [
              "<div>\n",
              "<style scoped>\n",
              "    .dataframe tbody tr th:only-of-type {\n",
              "        vertical-align: middle;\n",
              "    }\n",
              "\n",
              "    .dataframe tbody tr th {\n",
              "        vertical-align: top;\n",
              "    }\n",
              "\n",
              "    .dataframe thead th {\n",
              "        text-align: right;\n",
              "    }\n",
              "</style>\n",
              "<table border=\"1\" class=\"dataframe\">\n",
              "  <thead>\n",
              "    <tr style=\"text-align: right;\">\n",
              "      <th></th>\n",
              "      <th>CMTE_ID</th>\n",
              "      <th>CMTE_NM</th>\n",
              "      <th>CMTE_ST</th>\n",
              "      <th>CMTE_DSGN</th>\n",
              "      <th>CMTE_TP</th>\n",
              "      <th>CMTE_PTY_AFFILIATION</th>\n",
              "      <th>ORG_TP</th>\n",
              "      <th>CAND_ID</th>\n",
              "    </tr>\n",
              "  </thead>\n",
              "  <tbody>\n",
              "    <tr>\n",
              "      <th>0</th>\n",
              "      <td>\\tC00000059</td>\n",
              "      <td>HALLMARK CARDS PAC</td>\n",
              "      <td>MO</td>\n",
              "      <td>U</td>\n",
              "      <td>Q</td>\n",
              "      <td>UNK</td>\n",
              "      <td>C</td>\n",
              "      <td>NaN</td>\n",
              "    </tr>\n",
              "    <tr>\n",
              "      <th>1</th>\n",
              "      <td>C00000422</td>\n",
              "      <td>AMERICAN MEDICAL ASSOCIATION POLITICAL ACTION ...</td>\n",
              "      <td>DC</td>\n",
              "      <td>B</td>\n",
              "      <td>Q</td>\n",
              "      <td>NaN</td>\n",
              "      <td>M</td>\n",
              "      <td>NaN</td>\n",
              "    </tr>\n",
              "    <tr>\n",
              "      <th>2</th>\n",
              "      <td>C00000489</td>\n",
              "      <td>D R I V E POLITICAL FUND CHAPTER 886</td>\n",
              "      <td>OK</td>\n",
              "      <td>U</td>\n",
              "      <td>N</td>\n",
              "      <td>NaN</td>\n",
              "      <td>L</td>\n",
              "      <td>NaN</td>\n",
              "    </tr>\n",
              "    <tr>\n",
              "      <th>3</th>\n",
              "      <td>C00000547</td>\n",
              "      <td>KANSAS MEDICAL SOCIETY POLITICAL ACTION COMMITTEE</td>\n",
              "      <td>KS</td>\n",
              "      <td>U</td>\n",
              "      <td>Q</td>\n",
              "      <td>UNK</td>\n",
              "      <td>M</td>\n",
              "      <td>NaN</td>\n",
              "    </tr>\n",
              "    <tr>\n",
              "      <th>4</th>\n",
              "      <td>C00000638</td>\n",
              "      <td>INDIANA STATE MEDICAL ASSOCIATION POLITICAL AC...</td>\n",
              "      <td>IN</td>\n",
              "      <td>U</td>\n",
              "      <td>Q</td>\n",
              "      <td>NaN</td>\n",
              "      <td>M</td>\n",
              "      <td>NaN</td>\n",
              "    </tr>\n",
              "  </tbody>\n",
              "</table>\n",
              "</div>"
            ],
            "text/plain": [
              "       CMTE_ID  ... CAND_ID\n",
              "0  \\tC00000059  ...     NaN\n",
              "1    C00000422  ...     NaN\n",
              "2    C00000489  ...     NaN\n",
              "3    C00000547  ...     NaN\n",
              "4    C00000638  ...     NaN\n",
              "\n",
              "[5 rows x 8 columns]"
            ]
          },
          "metadata": {
            "tags": []
          },
          "execution_count": 4
        }
      ]
    },
    {
      "cell_type": "code",
      "metadata": {
        "id": "KbtY3kTrzyxI",
        "colab": {
          "base_uri": "https://localhost:8080/",
          "height": 233
        },
        "outputId": "8da0293f-f94d-4bbd-d0df-e35fbb1eb665"
      },
      "source": [
        "candidate_committee_linkages = pd.read_csv(\"/content/gdrive/My Drive/candidate_committee_linkages.txt\", sep='|', usecols = [0,3], names=['CAND_ID',  'CAND_ELECTION_YR', 'FEC_ELECTION_YR',  'CMTE_ID',  'CMTE_TP',  'CMTE_DSGN',  'LINKAGE_ID'])\n",
        "print(candidate_committee_linkages.shape)\n",
        "print(len(candidate_committee_linkages.CAND_ID.unique()))\n",
        "candidate_committee_linkages.head()"
      ],
      "execution_count": null,
      "outputs": [
        {
          "output_type": "stream",
          "text": [
            "(6825, 2)\n",
            "6138\n"
          ],
          "name": "stdout"
        },
        {
          "output_type": "execute_result",
          "data": {
            "text/html": [
              "<div>\n",
              "<style scoped>\n",
              "    .dataframe tbody tr th:only-of-type {\n",
              "        vertical-align: middle;\n",
              "    }\n",
              "\n",
              "    .dataframe tbody tr th {\n",
              "        vertical-align: top;\n",
              "    }\n",
              "\n",
              "    .dataframe thead th {\n",
              "        text-align: right;\n",
              "    }\n",
              "</style>\n",
              "<table border=\"1\" class=\"dataframe\">\n",
              "  <thead>\n",
              "    <tr style=\"text-align: right;\">\n",
              "      <th></th>\n",
              "      <th>CAND_ID</th>\n",
              "      <th>CMTE_ID</th>\n",
              "    </tr>\n",
              "  </thead>\n",
              "  <tbody>\n",
              "    <tr>\n",
              "      <th>0</th>\n",
              "      <td>C00713602</td>\n",
              "      <td>C00712851</td>\n",
              "    </tr>\n",
              "    <tr>\n",
              "      <th>1</th>\n",
              "      <td>H0AK00105</td>\n",
              "      <td>C00607515</td>\n",
              "    </tr>\n",
              "    <tr>\n",
              "      <th>2</th>\n",
              "      <td>H0AL01055</td>\n",
              "      <td>C00697789</td>\n",
              "    </tr>\n",
              "    <tr>\n",
              "      <th>3</th>\n",
              "      <td>H0AL01063</td>\n",
              "      <td>C00701557</td>\n",
              "    </tr>\n",
              "    <tr>\n",
              "      <th>4</th>\n",
              "      <td>H0AL01071</td>\n",
              "      <td>C00701409</td>\n",
              "    </tr>\n",
              "  </tbody>\n",
              "</table>\n",
              "</div>"
            ],
            "text/plain": [
              "     CAND_ID    CMTE_ID\n",
              "0  C00713602  C00712851\n",
              "1  H0AK00105  C00607515\n",
              "2  H0AL01055  C00697789\n",
              "3  H0AL01063  C00701557\n",
              "4  H0AL01071  C00701409"
            ]
          },
          "metadata": {
            "tags": []
          },
          "execution_count": 5
        }
      ]
    },
    {
      "cell_type": "code",
      "metadata": {
        "id": "PhJ3N_V_zy7_",
        "colab": {
          "base_uri": "https://localhost:8080/",
          "height": 271
        },
        "outputId": "26b069c3-89fc-4b6c-8ad6-5267f3b9f305"
      },
      "source": [
        "individual_contributions = pd.read_csv(\"/content/gdrive/My Drive/indiv.txt\", sep='|', usecols = [0,5,6,13,14], names=['CMTE_ID','TRANSACTION_TP', 'ENTITY_TP', 'TRANSACTION_DT', 'TRANSACTION_AMT'])\n",
        "print(individual_contributions.shape)\n",
        "individual_contributions.head()"
      ],
      "execution_count": null,
      "outputs": [
        {
          "output_type": "stream",
          "text": [
            "/usr/local/lib/python3.6/dist-packages/IPython/core/interactiveshell.py:2718: DtypeWarning: Columns (13,14) have mixed types.Specify dtype option on import or set low_memory=False.\n",
            "  interactivity=interactivity, compiler=compiler, result=result)\n"
          ],
          "name": "stderr"
        },
        {
          "output_type": "stream",
          "text": [
            "(36302237, 5)\n"
          ],
          "name": "stdout"
        },
        {
          "output_type": "execute_result",
          "data": {
            "text/html": [
              "<div>\n",
              "<style scoped>\n",
              "    .dataframe tbody tr th:only-of-type {\n",
              "        vertical-align: middle;\n",
              "    }\n",
              "\n",
              "    .dataframe tbody tr th {\n",
              "        vertical-align: top;\n",
              "    }\n",
              "\n",
              "    .dataframe thead th {\n",
              "        text-align: right;\n",
              "    }\n",
              "</style>\n",
              "<table border=\"1\" class=\"dataframe\">\n",
              "  <thead>\n",
              "    <tr style=\"text-align: right;\">\n",
              "      <th></th>\n",
              "      <th>CMTE_ID</th>\n",
              "      <th>TRANSACTION_TP</th>\n",
              "      <th>ENTITY_TP</th>\n",
              "      <th>TRANSACTION_DT</th>\n",
              "      <th>TRANSACTION_AMT</th>\n",
              "    </tr>\n",
              "  </thead>\n",
              "  <tbody>\n",
              "    <tr>\n",
              "      <th>0</th>\n",
              "      <td>C00432906</td>\n",
              "      <td>22Y</td>\n",
              "      <td>IND</td>\n",
              "      <td>1182019</td>\n",
              "      <td>-500</td>\n",
              "    </tr>\n",
              "    <tr>\n",
              "      <th>1</th>\n",
              "      <td>C00432906</td>\n",
              "      <td>22Y</td>\n",
              "      <td>IND</td>\n",
              "      <td>1182019</td>\n",
              "      <td>500</td>\n",
              "    </tr>\n",
              "    <tr>\n",
              "      <th>2</th>\n",
              "      <td>C00640870</td>\n",
              "      <td>15C</td>\n",
              "      <td>CAN</td>\n",
              "      <td>1242019</td>\n",
              "      <td>76</td>\n",
              "    </tr>\n",
              "    <tr>\n",
              "      <th>3</th>\n",
              "      <td>C00638478</td>\n",
              "      <td>15</td>\n",
              "      <td>IND</td>\n",
              "      <td>1252019</td>\n",
              "      <td>-50</td>\n",
              "    </tr>\n",
              "    <tr>\n",
              "      <th>4</th>\n",
              "      <td>C00638478</td>\n",
              "      <td>15C</td>\n",
              "      <td>CAN</td>\n",
              "      <td>1282019</td>\n",
              "      <td>59816</td>\n",
              "    </tr>\n",
              "  </tbody>\n",
              "</table>\n",
              "</div>"
            ],
            "text/plain": [
              "     CMTE_ID TRANSACTION_TP ENTITY_TP TRANSACTION_DT TRANSACTION_AMT\n",
              "0  C00432906            22Y       IND        1182019            -500\n",
              "1  C00432906            22Y       IND        1182019             500\n",
              "2  C00640870            15C       CAN        1242019              76\n",
              "3  C00638478             15       IND        1252019             -50\n",
              "4  C00638478            15C       CAN        1282019           59816"
            ]
          },
          "metadata": {
            "tags": []
          },
          "execution_count": 6
        }
      ]
    },
    {
      "cell_type": "code",
      "metadata": {
        "id": "NVVQqvbwzzDB",
        "colab": {
          "base_uri": "https://localhost:8080/",
          "height": 215
        },
        "outputId": "843ad2fe-2b3d-4d28-eecc-8c048a2a2848"
      },
      "source": [
        "committees_to_candidates_contributions = pd.read_csv(\"/content/gdrive/My Drive/committees_to_candidates_contributions.txt\", sep='|', usecols = [0,5,6,7,9,13,14,16], names=['CMTE_ID','TRANSACTION_TP','ENTITY_TP','NAME','STATE','TRANSACTION_DT','TRANSACTION_AMT','CAND_ID'])\n",
        "print(committees_to_candidates_contributions.shape)\n",
        "committees_to_candidates_contributions.head()"
      ],
      "execution_count": null,
      "outputs": [
        {
          "output_type": "stream",
          "text": [
            "(260811, 8)\n"
          ],
          "name": "stdout"
        },
        {
          "output_type": "execute_result",
          "data": {
            "text/html": [
              "<div>\n",
              "<style scoped>\n",
              "    .dataframe tbody tr th:only-of-type {\n",
              "        vertical-align: middle;\n",
              "    }\n",
              "\n",
              "    .dataframe tbody tr th {\n",
              "        vertical-align: top;\n",
              "    }\n",
              "\n",
              "    .dataframe thead th {\n",
              "        text-align: right;\n",
              "    }\n",
              "</style>\n",
              "<table border=\"1\" class=\"dataframe\">\n",
              "  <thead>\n",
              "    <tr style=\"text-align: right;\">\n",
              "      <th></th>\n",
              "      <th>CMTE_ID</th>\n",
              "      <th>TRANSACTION_TP</th>\n",
              "      <th>ENTITY_TP</th>\n",
              "      <th>NAME</th>\n",
              "      <th>STATE</th>\n",
              "      <th>TRANSACTION_DT</th>\n",
              "      <th>TRANSACTION_AMT</th>\n",
              "      <th>CAND_ID</th>\n",
              "    </tr>\n",
              "  </thead>\n",
              "  <tbody>\n",
              "    <tr>\n",
              "      <th>0</th>\n",
              "      <td>C00567180</td>\n",
              "      <td>24K</td>\n",
              "      <td>PAC</td>\n",
              "      <td>TED YOHO FOR CONGRESS</td>\n",
              "      <td>FL</td>\n",
              "      <td>1082019.0</td>\n",
              "      <td>1880</td>\n",
              "      <td>H2FL06109</td>\n",
              "    </tr>\n",
              "    <tr>\n",
              "      <th>1</th>\n",
              "      <td>C00104885</td>\n",
              "      <td>24K</td>\n",
              "      <td>CCM</td>\n",
              "      <td>TEAM GRAHAM INC</td>\n",
              "      <td>SC</td>\n",
              "      <td>12202018.0</td>\n",
              "      <td>3000</td>\n",
              "      <td>H4SC03087</td>\n",
              "    </tr>\n",
              "    <tr>\n",
              "      <th>2</th>\n",
              "      <td>C00104885</td>\n",
              "      <td>24K</td>\n",
              "      <td>CCM</td>\n",
              "      <td>TIM SCOTT FOR SENATE</td>\n",
              "      <td>SC</td>\n",
              "      <td>12202018.0</td>\n",
              "      <td>1000</td>\n",
              "      <td>H0SC01279</td>\n",
              "    </tr>\n",
              "    <tr>\n",
              "      <th>3</th>\n",
              "      <td>C00104885</td>\n",
              "      <td>24K</td>\n",
              "      <td>CCM</td>\n",
              "      <td>FRIENDS OF JIM CLYBURN</td>\n",
              "      <td>SC</td>\n",
              "      <td>1072019.0</td>\n",
              "      <td>470</td>\n",
              "      <td>H2SC02042</td>\n",
              "    </tr>\n",
              "    <tr>\n",
              "      <th>4</th>\n",
              "      <td>C00688408</td>\n",
              "      <td>24E</td>\n",
              "      <td>ORG</td>\n",
              "      <td>JACKSON ADVOCATE</td>\n",
              "      <td>MS</td>\n",
              "      <td>12122018.0</td>\n",
              "      <td>1000</td>\n",
              "      <td>S8MS00287</td>\n",
              "    </tr>\n",
              "  </tbody>\n",
              "</table>\n",
              "</div>"
            ],
            "text/plain": [
              "     CMTE_ID TRANSACTION_TP  ... TRANSACTION_AMT    CAND_ID\n",
              "0  C00567180            24K  ...            1880  H2FL06109\n",
              "1  C00104885            24K  ...            3000  H4SC03087\n",
              "2  C00104885            24K  ...            1000  H0SC01279\n",
              "3  C00104885            24K  ...             470  H2SC02042\n",
              "4  C00688408            24E  ...            1000  S8MS00287\n",
              "\n",
              "[5 rows x 8 columns]"
            ]
          },
          "metadata": {
            "tags": []
          },
          "execution_count": 7
        }
      ]
    },
    {
      "cell_type": "code",
      "metadata": {
        "id": "YGg578UnzzJh",
        "colab": {
          "base_uri": "https://localhost:8080/",
          "height": 271
        },
        "outputId": "bf475a0f-b4f2-47c5-c2dc-737125ccf1d2"
      },
      "source": [
        "committee_to_committee_contributions = pd.read_csv(\"/content/gdrive/My Drive/committee_to_committee.txt\", sep='|', usecols = [0,5,6,13,14,15], names=['CMTE_ID','TRANSACTION_TP','ENTITY_TP','TRANSACTION_DT','TRANSACTION_AMT','OTHER_ID'])\n",
        "print(committee_to_committee_contributions.shape)\n",
        "committee_to_committee_contributions.head()"
      ],
      "execution_count": null,
      "outputs": [
        {
          "output_type": "stream",
          "text": [
            "/usr/local/lib/python3.6/dist-packages/IPython/core/interactiveshell.py:2718: DtypeWarning: Columns (15) have mixed types.Specify dtype option on import or set low_memory=False.\n",
            "  interactivity=interactivity, compiler=compiler, result=result)\n"
          ],
          "name": "stderr"
        },
        {
          "output_type": "stream",
          "text": [
            "(1837255, 6)\n"
          ],
          "name": "stdout"
        },
        {
          "output_type": "execute_result",
          "data": {
            "text/html": [
              "<div>\n",
              "<style scoped>\n",
              "    .dataframe tbody tr th:only-of-type {\n",
              "        vertical-align: middle;\n",
              "    }\n",
              "\n",
              "    .dataframe tbody tr th {\n",
              "        vertical-align: top;\n",
              "    }\n",
              "\n",
              "    .dataframe thead th {\n",
              "        text-align: right;\n",
              "    }\n",
              "</style>\n",
              "<table border=\"1\" class=\"dataframe\">\n",
              "  <thead>\n",
              "    <tr style=\"text-align: right;\">\n",
              "      <th></th>\n",
              "      <th>CMTE_ID</th>\n",
              "      <th>TRANSACTION_TP</th>\n",
              "      <th>ENTITY_TP</th>\n",
              "      <th>TRANSACTION_DT</th>\n",
              "      <th>TRANSACTION_AMT</th>\n",
              "      <th>OTHER_ID</th>\n",
              "    </tr>\n",
              "  </thead>\n",
              "  <tbody>\n",
              "    <tr>\n",
              "      <th>0</th>\n",
              "      <td>C00567180</td>\n",
              "      <td>24K</td>\n",
              "      <td>PAC</td>\n",
              "      <td>1082019.0</td>\n",
              "      <td>1880</td>\n",
              "      <td>C00494583</td>\n",
              "    </tr>\n",
              "    <tr>\n",
              "      <th>1</th>\n",
              "      <td>C00650440</td>\n",
              "      <td>24K</td>\n",
              "      <td>PAC</td>\n",
              "      <td>1242019.0</td>\n",
              "      <td>700</td>\n",
              "      <td>C00640086</td>\n",
              "    </tr>\n",
              "    <tr>\n",
              "      <th>2</th>\n",
              "      <td>C00638478</td>\n",
              "      <td>20C</td>\n",
              "      <td>CAN</td>\n",
              "      <td>1282019.0</td>\n",
              "      <td>2795</td>\n",
              "      <td>H8CA39133</td>\n",
              "    </tr>\n",
              "    <tr>\n",
              "      <th>3</th>\n",
              "      <td>C00638478</td>\n",
              "      <td>20C</td>\n",
              "      <td>CAN</td>\n",
              "      <td>1282019.0</td>\n",
              "      <td>59816</td>\n",
              "      <td>H8CA39133</td>\n",
              "    </tr>\n",
              "    <tr>\n",
              "      <th>4</th>\n",
              "      <td>C00638478</td>\n",
              "      <td>20C</td>\n",
              "      <td>CAN</td>\n",
              "      <td>1282019.0</td>\n",
              "      <td>50000</td>\n",
              "      <td>H8CA39133</td>\n",
              "    </tr>\n",
              "  </tbody>\n",
              "</table>\n",
              "</div>"
            ],
            "text/plain": [
              "     CMTE_ID TRANSACTION_TP  ... TRANSACTION_AMT   OTHER_ID\n",
              "0  C00567180            24K  ...            1880  C00494583\n",
              "1  C00650440            24K  ...             700  C00640086\n",
              "2  C00638478            20C  ...            2795  H8CA39133\n",
              "3  C00638478            20C  ...           59816  H8CA39133\n",
              "4  C00638478            20C  ...           50000  H8CA39133\n",
              "\n",
              "[5 rows x 6 columns]"
            ]
          },
          "metadata": {
            "tags": []
          },
          "execution_count": 8
        }
      ]
    },
    {
      "cell_type": "code",
      "metadata": {
        "id": "JAPv99pMelW-",
        "colab": {
          "base_uri": "https://localhost:8080/",
          "height": 271
        },
        "outputId": "f6741635-8686-4fec-8c5c-f84600067939"
      },
      "source": [
        "expenses = pd.read_csv(\"/content/gdrive/My Drive/op_expenses.txt\", sep='|', usecols = [0,2,12,13,15,16,17], names=['CMTE_ID','REPORT_YR','TRANSACTION_DT','TRANSACTION_AMT','PURPOSE','CATEGORY','CATEGORY_DESC'])\n",
        "print(expenses.shape)\n",
        "expenses = expenses[expenses[\"REPORT_YR\"]==2020]\n",
        "del expenses['REPORT_YR']\n",
        "expenses.head()"
      ],
      "execution_count": null,
      "outputs": [
        {
          "output_type": "stream",
          "text": [
            "/usr/local/lib/python3.6/dist-packages/IPython/core/interactiveshell.py:2718: DtypeWarning: Columns (16,17) have mixed types.Specify dtype option on import or set low_memory=False.\n",
            "  interactivity=interactivity, compiler=compiler, result=result)\n"
          ],
          "name": "stderr"
        },
        {
          "output_type": "stream",
          "text": [
            "(1719829, 7)\n"
          ],
          "name": "stdout"
        },
        {
          "output_type": "execute_result",
          "data": {
            "text/html": [
              "<div>\n",
              "<style scoped>\n",
              "    .dataframe tbody tr th:only-of-type {\n",
              "        vertical-align: middle;\n",
              "    }\n",
              "\n",
              "    .dataframe tbody tr th {\n",
              "        vertical-align: top;\n",
              "    }\n",
              "\n",
              "    .dataframe thead th {\n",
              "        text-align: right;\n",
              "    }\n",
              "</style>\n",
              "<table border=\"1\" class=\"dataframe\">\n",
              "  <thead>\n",
              "    <tr style=\"text-align: right;\">\n",
              "      <th></th>\n",
              "      <th>CMTE_ID</th>\n",
              "      <th>TRANSACTION_DT</th>\n",
              "      <th>TRANSACTION_AMT</th>\n",
              "      <th>PURPOSE</th>\n",
              "      <th>CATEGORY</th>\n",
              "      <th>CATEGORY_DESC</th>\n",
              "    </tr>\n",
              "  </thead>\n",
              "  <tbody>\n",
              "    <tr>\n",
              "      <th>389573</th>\n",
              "      <td>C00675041</td>\n",
              "      <td>01/10/2020</td>\n",
              "      <td>150.00</td>\n",
              "      <td>COMPUTER SOFTWARE</td>\n",
              "      <td>NaN</td>\n",
              "      <td>NaN</td>\n",
              "    </tr>\n",
              "    <tr>\n",
              "      <th>389574</th>\n",
              "      <td>C00482307</td>\n",
              "      <td>01/16/2020</td>\n",
              "      <td>689.35</td>\n",
              "      <td>CLOSE WEBSITE</td>\n",
              "      <td>NaN</td>\n",
              "      <td>NaN</td>\n",
              "    </tr>\n",
              "    <tr>\n",
              "      <th>389575</th>\n",
              "      <td>C00726935</td>\n",
              "      <td>12/04/2019</td>\n",
              "      <td>1405.83</td>\n",
              "      <td>TECHNICAL CONSULTATION</td>\n",
              "      <td>NaN</td>\n",
              "      <td>NaN</td>\n",
              "    </tr>\n",
              "    <tr>\n",
              "      <th>389576</th>\n",
              "      <td>C00726935</td>\n",
              "      <td>12/19/2019</td>\n",
              "      <td>2563.00</td>\n",
              "      <td>NaN</td>\n",
              "      <td>NaN</td>\n",
              "      <td>NaN</td>\n",
              "    </tr>\n",
              "    <tr>\n",
              "      <th>389577</th>\n",
              "      <td>C00726935</td>\n",
              "      <td>12/31/2019</td>\n",
              "      <td>725.00</td>\n",
              "      <td>NaN</td>\n",
              "      <td>4</td>\n",
              "      <td>Advertising Expenses</td>\n",
              "    </tr>\n",
              "  </tbody>\n",
              "</table>\n",
              "</div>"
            ],
            "text/plain": [
              "          CMTE_ID TRANSACTION_DT  ...  CATEGORY          CATEGORY_DESC\n",
              "389573  C00675041     01/10/2020  ...       NaN                    NaN\n",
              "389574  C00482307     01/16/2020  ...       NaN                    NaN\n",
              "389575  C00726935     12/04/2019  ...       NaN                    NaN\n",
              "389576  C00726935     12/19/2019  ...       NaN                    NaN\n",
              "389577  C00726935     12/31/2019  ...         4  Advertising Expenses \n",
              "\n",
              "[5 rows x 6 columns]"
            ]
          },
          "metadata": {
            "tags": []
          },
          "execution_count": 9
        }
      ]
    },
    {
      "cell_type": "code",
      "metadata": {
        "id": "twpS7wp1Fcrf",
        "colab": {
          "base_uri": "https://localhost:8080/",
          "height": 197
        },
        "outputId": "43c8f4a6-cc51-4cae-b458-2d2762a3c0c0"
      },
      "source": [
        "candidates.head()#checking data/ taking a look of the whole dataset"
      ],
      "execution_count": null,
      "outputs": [
        {
          "output_type": "execute_result",
          "data": {
            "text/html": [
              "<div>\n",
              "<style scoped>\n",
              "    .dataframe tbody tr th:only-of-type {\n",
              "        vertical-align: middle;\n",
              "    }\n",
              "\n",
              "    .dataframe tbody tr th {\n",
              "        vertical-align: top;\n",
              "    }\n",
              "\n",
              "    .dataframe thead th {\n",
              "        text-align: right;\n",
              "    }\n",
              "</style>\n",
              "<table border=\"1\" class=\"dataframe\">\n",
              "  <thead>\n",
              "    <tr style=\"text-align: right;\">\n",
              "      <th></th>\n",
              "      <th>CAND_ID</th>\n",
              "      <th>CAND_NAME</th>\n",
              "      <th>CAND_PTY_AFFILIATION</th>\n",
              "      <th>CAND_OFFICE_ST</th>\n",
              "      <th>CAND_OFFICE</th>\n",
              "      <th>CAND_PCC</th>\n",
              "    </tr>\n",
              "  </thead>\n",
              "  <tbody>\n",
              "    <tr>\n",
              "      <th>0</th>\n",
              "      <td>H0AK00105</td>\n",
              "      <td>LAMB, THOMAS</td>\n",
              "      <td>NNE</td>\n",
              "      <td>AK</td>\n",
              "      <td>H</td>\n",
              "      <td>C00607515</td>\n",
              "    </tr>\n",
              "    <tr>\n",
              "      <th>1</th>\n",
              "      <td>H0AK00113</td>\n",
              "      <td>TUGATUK, RAY SEAN</td>\n",
              "      <td>DEM</td>\n",
              "      <td>AK</td>\n",
              "      <td>H</td>\n",
              "      <td>NaN</td>\n",
              "    </tr>\n",
              "    <tr>\n",
              "      <th>2</th>\n",
              "      <td>H0AK01046</td>\n",
              "      <td>CATALANO, THOMAS</td>\n",
              "      <td>OTH</td>\n",
              "      <td>AK</td>\n",
              "      <td>H</td>\n",
              "      <td>NaN</td>\n",
              "    </tr>\n",
              "    <tr>\n",
              "      <th>3</th>\n",
              "      <td>H0AL01055</td>\n",
              "      <td>CARL, JERRY LEE, JR</td>\n",
              "      <td>REP</td>\n",
              "      <td>AL</td>\n",
              "      <td>H</td>\n",
              "      <td>C00697789</td>\n",
              "    </tr>\n",
              "    <tr>\n",
              "      <th>4</th>\n",
              "      <td>H0AL01063</td>\n",
              "      <td>LAMBERT, DOUGLAS WESTLEY III</td>\n",
              "      <td>REP</td>\n",
              "      <td>AL</td>\n",
              "      <td>H</td>\n",
              "      <td>C00701557</td>\n",
              "    </tr>\n",
              "  </tbody>\n",
              "</table>\n",
              "</div>"
            ],
            "text/plain": [
              "     CAND_ID                     CAND_NAME  ... CAND_OFFICE   CAND_PCC\n",
              "0  H0AK00105                  LAMB, THOMAS  ...           H  C00607515\n",
              "1  H0AK00113             TUGATUK, RAY SEAN  ...           H        NaN\n",
              "2  H0AK01046              CATALANO, THOMAS  ...           H        NaN\n",
              "3  H0AL01055           CARL, JERRY LEE, JR  ...           H  C00697789\n",
              "4  H0AL01063  LAMBERT, DOUGLAS WESTLEY III  ...           H  C00701557\n",
              "\n",
              "[5 rows x 6 columns]"
            ]
          },
          "metadata": {
            "tags": []
          },
          "execution_count": 10
        }
      ]
    },
    {
      "cell_type": "code",
      "metadata": {
        "id": "1jZ0akkkF6Lq",
        "colab": {
          "base_uri": "https://localhost:8080/",
          "height": 137
        },
        "outputId": "6e61f532-adae-4248-9e3a-8eb98369afcc"
      },
      "source": [
        "candidate_committee_linkages.head(3)#checking data"
      ],
      "execution_count": null,
      "outputs": [
        {
          "output_type": "execute_result",
          "data": {
            "text/html": [
              "<div>\n",
              "<style scoped>\n",
              "    .dataframe tbody tr th:only-of-type {\n",
              "        vertical-align: middle;\n",
              "    }\n",
              "\n",
              "    .dataframe tbody tr th {\n",
              "        vertical-align: top;\n",
              "    }\n",
              "\n",
              "    .dataframe thead th {\n",
              "        text-align: right;\n",
              "    }\n",
              "</style>\n",
              "<table border=\"1\" class=\"dataframe\">\n",
              "  <thead>\n",
              "    <tr style=\"text-align: right;\">\n",
              "      <th></th>\n",
              "      <th>CAND_ID</th>\n",
              "      <th>CMTE_ID</th>\n",
              "    </tr>\n",
              "  </thead>\n",
              "  <tbody>\n",
              "    <tr>\n",
              "      <th>0</th>\n",
              "      <td>C00713602</td>\n",
              "      <td>C00712851</td>\n",
              "    </tr>\n",
              "    <tr>\n",
              "      <th>1</th>\n",
              "      <td>H0AK00105</td>\n",
              "      <td>C00607515</td>\n",
              "    </tr>\n",
              "    <tr>\n",
              "      <th>2</th>\n",
              "      <td>H0AL01055</td>\n",
              "      <td>C00697789</td>\n",
              "    </tr>\n",
              "  </tbody>\n",
              "</table>\n",
              "</div>"
            ],
            "text/plain": [
              "     CAND_ID    CMTE_ID\n",
              "0  C00713602  C00712851\n",
              "1  H0AK00105  C00607515\n",
              "2  H0AL01055  C00697789"
            ]
          },
          "metadata": {
            "tags": []
          },
          "execution_count": 11
        }
      ]
    },
    {
      "cell_type": "code",
      "metadata": {
        "id": "jMrBpVILFuNq",
        "colab": {
          "base_uri": "https://localhost:8080/",
          "height": 197
        },
        "outputId": "936b863b-88f9-4c8a-bdc6-d38df578f5d6"
      },
      "source": [
        "df1=candidate_committee_linkages.iloc[:,[0,1]]#extracting columns that are useful and ignoring the others\n",
        "df1.head()"
      ],
      "execution_count": null,
      "outputs": [
        {
          "output_type": "execute_result",
          "data": {
            "text/html": [
              "<div>\n",
              "<style scoped>\n",
              "    .dataframe tbody tr th:only-of-type {\n",
              "        vertical-align: middle;\n",
              "    }\n",
              "\n",
              "    .dataframe tbody tr th {\n",
              "        vertical-align: top;\n",
              "    }\n",
              "\n",
              "    .dataframe thead th {\n",
              "        text-align: right;\n",
              "    }\n",
              "</style>\n",
              "<table border=\"1\" class=\"dataframe\">\n",
              "  <thead>\n",
              "    <tr style=\"text-align: right;\">\n",
              "      <th></th>\n",
              "      <th>CAND_ID</th>\n",
              "      <th>CMTE_ID</th>\n",
              "    </tr>\n",
              "  </thead>\n",
              "  <tbody>\n",
              "    <tr>\n",
              "      <th>0</th>\n",
              "      <td>C00713602</td>\n",
              "      <td>C00712851</td>\n",
              "    </tr>\n",
              "    <tr>\n",
              "      <th>1</th>\n",
              "      <td>H0AK00105</td>\n",
              "      <td>C00607515</td>\n",
              "    </tr>\n",
              "    <tr>\n",
              "      <th>2</th>\n",
              "      <td>H0AL01055</td>\n",
              "      <td>C00697789</td>\n",
              "    </tr>\n",
              "    <tr>\n",
              "      <th>3</th>\n",
              "      <td>H0AL01063</td>\n",
              "      <td>C00701557</td>\n",
              "    </tr>\n",
              "    <tr>\n",
              "      <th>4</th>\n",
              "      <td>H0AL01071</td>\n",
              "      <td>C00701409</td>\n",
              "    </tr>\n",
              "  </tbody>\n",
              "</table>\n",
              "</div>"
            ],
            "text/plain": [
              "     CAND_ID    CMTE_ID\n",
              "0  C00713602  C00712851\n",
              "1  H0AK00105  C00607515\n",
              "2  H0AL01055  C00697789\n",
              "3  H0AL01063  C00701557\n",
              "4  H0AL01071  C00701409"
            ]
          },
          "metadata": {
            "tags": []
          },
          "execution_count": 12
        }
      ]
    },
    {
      "cell_type": "code",
      "metadata": {
        "id": "pfMZhBAhMpFp",
        "colab": {
          "base_uri": "https://localhost:8080/",
          "height": 137
        },
        "outputId": "254e7295-d690-4e07-db3f-59aec01e0d96"
      },
      "source": [
        "individual_contributions.head(3)#checking data"
      ],
      "execution_count": null,
      "outputs": [
        {
          "output_type": "execute_result",
          "data": {
            "text/html": [
              "<div>\n",
              "<style scoped>\n",
              "    .dataframe tbody tr th:only-of-type {\n",
              "        vertical-align: middle;\n",
              "    }\n",
              "\n",
              "    .dataframe tbody tr th {\n",
              "        vertical-align: top;\n",
              "    }\n",
              "\n",
              "    .dataframe thead th {\n",
              "        text-align: right;\n",
              "    }\n",
              "</style>\n",
              "<table border=\"1\" class=\"dataframe\">\n",
              "  <thead>\n",
              "    <tr style=\"text-align: right;\">\n",
              "      <th></th>\n",
              "      <th>CMTE_ID</th>\n",
              "      <th>TRANSACTION_TP</th>\n",
              "      <th>ENTITY_TP</th>\n",
              "      <th>TRANSACTION_DT</th>\n",
              "      <th>TRANSACTION_AMT</th>\n",
              "    </tr>\n",
              "  </thead>\n",
              "  <tbody>\n",
              "    <tr>\n",
              "      <th>0</th>\n",
              "      <td>C00432906</td>\n",
              "      <td>22Y</td>\n",
              "      <td>IND</td>\n",
              "      <td>1182019</td>\n",
              "      <td>-500</td>\n",
              "    </tr>\n",
              "    <tr>\n",
              "      <th>1</th>\n",
              "      <td>C00432906</td>\n",
              "      <td>22Y</td>\n",
              "      <td>IND</td>\n",
              "      <td>1182019</td>\n",
              "      <td>500</td>\n",
              "    </tr>\n",
              "    <tr>\n",
              "      <th>2</th>\n",
              "      <td>C00640870</td>\n",
              "      <td>15C</td>\n",
              "      <td>CAN</td>\n",
              "      <td>1242019</td>\n",
              "      <td>76</td>\n",
              "    </tr>\n",
              "  </tbody>\n",
              "</table>\n",
              "</div>"
            ],
            "text/plain": [
              "     CMTE_ID TRANSACTION_TP ENTITY_TP TRANSACTION_DT TRANSACTION_AMT\n",
              "0  C00432906            22Y       IND        1182019            -500\n",
              "1  C00432906            22Y       IND        1182019             500\n",
              "2  C00640870            15C       CAN        1242019              76"
            ]
          },
          "metadata": {
            "tags": []
          },
          "execution_count": 13
        }
      ]
    },
    {
      "cell_type": "code",
      "metadata": {
        "id": "BRqH7dLrM6jK",
        "colab": {
          "base_uri": "https://localhost:8080/",
          "height": 197
        },
        "outputId": "55b43a5c-1896-412c-be68-643e66667c9b"
      },
      "source": [
        "df2=individual_contributions.iloc[:,[0,4]]#extracting columns of committee id and the transaction amount\n",
        "df2.columns=[\"CMTE_ID\",\"TRANSACTION_AMT_1\"]\n",
        "df2.head()"
      ],
      "execution_count": null,
      "outputs": [
        {
          "output_type": "execute_result",
          "data": {
            "text/html": [
              "<div>\n",
              "<style scoped>\n",
              "    .dataframe tbody tr th:only-of-type {\n",
              "        vertical-align: middle;\n",
              "    }\n",
              "\n",
              "    .dataframe tbody tr th {\n",
              "        vertical-align: top;\n",
              "    }\n",
              "\n",
              "    .dataframe thead th {\n",
              "        text-align: right;\n",
              "    }\n",
              "</style>\n",
              "<table border=\"1\" class=\"dataframe\">\n",
              "  <thead>\n",
              "    <tr style=\"text-align: right;\">\n",
              "      <th></th>\n",
              "      <th>CMTE_ID</th>\n",
              "      <th>TRANSACTION_AMT_1</th>\n",
              "    </tr>\n",
              "  </thead>\n",
              "  <tbody>\n",
              "    <tr>\n",
              "      <th>0</th>\n",
              "      <td>C00432906</td>\n",
              "      <td>-500</td>\n",
              "    </tr>\n",
              "    <tr>\n",
              "      <th>1</th>\n",
              "      <td>C00432906</td>\n",
              "      <td>500</td>\n",
              "    </tr>\n",
              "    <tr>\n",
              "      <th>2</th>\n",
              "      <td>C00640870</td>\n",
              "      <td>76</td>\n",
              "    </tr>\n",
              "    <tr>\n",
              "      <th>3</th>\n",
              "      <td>C00638478</td>\n",
              "      <td>-50</td>\n",
              "    </tr>\n",
              "    <tr>\n",
              "      <th>4</th>\n",
              "      <td>C00638478</td>\n",
              "      <td>59816</td>\n",
              "    </tr>\n",
              "  </tbody>\n",
              "</table>\n",
              "</div>"
            ],
            "text/plain": [
              "     CMTE_ID TRANSACTION_AMT_1\n",
              "0  C00432906              -500\n",
              "1  C00432906               500\n",
              "2  C00640870                76\n",
              "3  C00638478               -50\n",
              "4  C00638478             59816"
            ]
          },
          "metadata": {
            "tags": []
          },
          "execution_count": 14
        }
      ]
    },
    {
      "cell_type": "code",
      "metadata": {
        "id": "478G7NF5NDJF",
        "colab": {
          "base_uri": "https://localhost:8080/",
          "height": 137
        },
        "outputId": "0b6048cb-8d8f-4bae-e059-e60fecc84e0c"
      },
      "source": [
        "committees_to_candidates_contributions.head(3)"
      ],
      "execution_count": null,
      "outputs": [
        {
          "output_type": "execute_result",
          "data": {
            "text/html": [
              "<div>\n",
              "<style scoped>\n",
              "    .dataframe tbody tr th:only-of-type {\n",
              "        vertical-align: middle;\n",
              "    }\n",
              "\n",
              "    .dataframe tbody tr th {\n",
              "        vertical-align: top;\n",
              "    }\n",
              "\n",
              "    .dataframe thead th {\n",
              "        text-align: right;\n",
              "    }\n",
              "</style>\n",
              "<table border=\"1\" class=\"dataframe\">\n",
              "  <thead>\n",
              "    <tr style=\"text-align: right;\">\n",
              "      <th></th>\n",
              "      <th>CMTE_ID</th>\n",
              "      <th>TRANSACTION_TP</th>\n",
              "      <th>ENTITY_TP</th>\n",
              "      <th>NAME</th>\n",
              "      <th>STATE</th>\n",
              "      <th>TRANSACTION_DT</th>\n",
              "      <th>TRANSACTION_AMT</th>\n",
              "      <th>CAND_ID</th>\n",
              "    </tr>\n",
              "  </thead>\n",
              "  <tbody>\n",
              "    <tr>\n",
              "      <th>0</th>\n",
              "      <td>C00567180</td>\n",
              "      <td>24K</td>\n",
              "      <td>PAC</td>\n",
              "      <td>TED YOHO FOR CONGRESS</td>\n",
              "      <td>FL</td>\n",
              "      <td>1082019.0</td>\n",
              "      <td>1880</td>\n",
              "      <td>H2FL06109</td>\n",
              "    </tr>\n",
              "    <tr>\n",
              "      <th>1</th>\n",
              "      <td>C00104885</td>\n",
              "      <td>24K</td>\n",
              "      <td>CCM</td>\n",
              "      <td>TEAM GRAHAM INC</td>\n",
              "      <td>SC</td>\n",
              "      <td>12202018.0</td>\n",
              "      <td>3000</td>\n",
              "      <td>H4SC03087</td>\n",
              "    </tr>\n",
              "    <tr>\n",
              "      <th>2</th>\n",
              "      <td>C00104885</td>\n",
              "      <td>24K</td>\n",
              "      <td>CCM</td>\n",
              "      <td>TIM SCOTT FOR SENATE</td>\n",
              "      <td>SC</td>\n",
              "      <td>12202018.0</td>\n",
              "      <td>1000</td>\n",
              "      <td>H0SC01279</td>\n",
              "    </tr>\n",
              "  </tbody>\n",
              "</table>\n",
              "</div>"
            ],
            "text/plain": [
              "     CMTE_ID TRANSACTION_TP  ... TRANSACTION_AMT    CAND_ID\n",
              "0  C00567180            24K  ...            1880  H2FL06109\n",
              "1  C00104885            24K  ...            3000  H4SC03087\n",
              "2  C00104885            24K  ...            1000  H0SC01279\n",
              "\n",
              "[3 rows x 8 columns]"
            ]
          },
          "metadata": {
            "tags": []
          },
          "execution_count": 15
        }
      ]
    },
    {
      "cell_type": "code",
      "metadata": {
        "id": "zLa1Q4bUN7gB",
        "colab": {
          "base_uri": "https://localhost:8080/",
          "height": 197
        },
        "outputId": "a512f612-009b-4526-f543-ca521de0b48d"
      },
      "source": [
        "df3=committees_to_candidates_contributions.iloc[:,[0,6,7]]#extracting useful colums\n",
        "df3.columns=[\"CMTE\",\"TRANSACTION_AMT_2\",\"CAND_ID\"]\n",
        "df3.head()"
      ],
      "execution_count": null,
      "outputs": [
        {
          "output_type": "execute_result",
          "data": {
            "text/html": [
              "<div>\n",
              "<style scoped>\n",
              "    .dataframe tbody tr th:only-of-type {\n",
              "        vertical-align: middle;\n",
              "    }\n",
              "\n",
              "    .dataframe tbody tr th {\n",
              "        vertical-align: top;\n",
              "    }\n",
              "\n",
              "    .dataframe thead th {\n",
              "        text-align: right;\n",
              "    }\n",
              "</style>\n",
              "<table border=\"1\" class=\"dataframe\">\n",
              "  <thead>\n",
              "    <tr style=\"text-align: right;\">\n",
              "      <th></th>\n",
              "      <th>CMTE</th>\n",
              "      <th>TRANSACTION_AMT_2</th>\n",
              "      <th>CAND_ID</th>\n",
              "    </tr>\n",
              "  </thead>\n",
              "  <tbody>\n",
              "    <tr>\n",
              "      <th>0</th>\n",
              "      <td>C00567180</td>\n",
              "      <td>1880</td>\n",
              "      <td>H2FL06109</td>\n",
              "    </tr>\n",
              "    <tr>\n",
              "      <th>1</th>\n",
              "      <td>C00104885</td>\n",
              "      <td>3000</td>\n",
              "      <td>H4SC03087</td>\n",
              "    </tr>\n",
              "    <tr>\n",
              "      <th>2</th>\n",
              "      <td>C00104885</td>\n",
              "      <td>1000</td>\n",
              "      <td>H0SC01279</td>\n",
              "    </tr>\n",
              "    <tr>\n",
              "      <th>3</th>\n",
              "      <td>C00104885</td>\n",
              "      <td>470</td>\n",
              "      <td>H2SC02042</td>\n",
              "    </tr>\n",
              "    <tr>\n",
              "      <th>4</th>\n",
              "      <td>C00688408</td>\n",
              "      <td>1000</td>\n",
              "      <td>S8MS00287</td>\n",
              "    </tr>\n",
              "  </tbody>\n",
              "</table>\n",
              "</div>"
            ],
            "text/plain": [
              "        CMTE  TRANSACTION_AMT_2    CAND_ID\n",
              "0  C00567180               1880  H2FL06109\n",
              "1  C00104885               3000  H4SC03087\n",
              "2  C00104885               1000  H0SC01279\n",
              "3  C00104885                470  H2SC02042\n",
              "4  C00688408               1000  S8MS00287"
            ]
          },
          "metadata": {
            "tags": []
          },
          "execution_count": 16
        }
      ]
    },
    {
      "cell_type": "code",
      "metadata": {
        "id": "1BSxV_TMOYRo",
        "colab": {
          "base_uri": "https://localhost:8080/",
          "height": 137
        },
        "outputId": "642d6ece-16d6-4077-c12f-792f292dbf97"
      },
      "source": [
        "committee_to_committee_contributions.head(3)"
      ],
      "execution_count": null,
      "outputs": [
        {
          "output_type": "execute_result",
          "data": {
            "text/html": [
              "<div>\n",
              "<style scoped>\n",
              "    .dataframe tbody tr th:only-of-type {\n",
              "        vertical-align: middle;\n",
              "    }\n",
              "\n",
              "    .dataframe tbody tr th {\n",
              "        vertical-align: top;\n",
              "    }\n",
              "\n",
              "    .dataframe thead th {\n",
              "        text-align: right;\n",
              "    }\n",
              "</style>\n",
              "<table border=\"1\" class=\"dataframe\">\n",
              "  <thead>\n",
              "    <tr style=\"text-align: right;\">\n",
              "      <th></th>\n",
              "      <th>CMTE_ID</th>\n",
              "      <th>TRANSACTION_TP</th>\n",
              "      <th>ENTITY_TP</th>\n",
              "      <th>TRANSACTION_DT</th>\n",
              "      <th>TRANSACTION_AMT</th>\n",
              "      <th>OTHER_ID</th>\n",
              "    </tr>\n",
              "  </thead>\n",
              "  <tbody>\n",
              "    <tr>\n",
              "      <th>0</th>\n",
              "      <td>C00567180</td>\n",
              "      <td>24K</td>\n",
              "      <td>PAC</td>\n",
              "      <td>1082019.0</td>\n",
              "      <td>1880</td>\n",
              "      <td>C00494583</td>\n",
              "    </tr>\n",
              "    <tr>\n",
              "      <th>1</th>\n",
              "      <td>C00650440</td>\n",
              "      <td>24K</td>\n",
              "      <td>PAC</td>\n",
              "      <td>1242019.0</td>\n",
              "      <td>700</td>\n",
              "      <td>C00640086</td>\n",
              "    </tr>\n",
              "    <tr>\n",
              "      <th>2</th>\n",
              "      <td>C00638478</td>\n",
              "      <td>20C</td>\n",
              "      <td>CAN</td>\n",
              "      <td>1282019.0</td>\n",
              "      <td>2795</td>\n",
              "      <td>H8CA39133</td>\n",
              "    </tr>\n",
              "  </tbody>\n",
              "</table>\n",
              "</div>"
            ],
            "text/plain": [
              "     CMTE_ID TRANSACTION_TP  ... TRANSACTION_AMT   OTHER_ID\n",
              "0  C00567180            24K  ...            1880  C00494583\n",
              "1  C00650440            24K  ...             700  C00640086\n",
              "2  C00638478            20C  ...            2795  H8CA39133\n",
              "\n",
              "[3 rows x 6 columns]"
            ]
          },
          "metadata": {
            "tags": []
          },
          "execution_count": 17
        }
      ]
    },
    {
      "cell_type": "code",
      "metadata": {
        "id": "A8NElgt0PaMs",
        "colab": {
          "base_uri": "https://localhost:8080/",
          "height": 197
        },
        "outputId": "77fe17ff-34fd-415d-ac2a-5b35e454ed5a"
      },
      "source": [
        "df4=committee_to_committee_contributions.iloc[:,[0,4,5]]#extracting useful colums\n",
        "df4.columns=[\"CMTE_ID\",\"TRANSACTION_AMT_3\",\"OTHER_ID\"]\n",
        "df4.head()"
      ],
      "execution_count": null,
      "outputs": [
        {
          "output_type": "execute_result",
          "data": {
            "text/html": [
              "<div>\n",
              "<style scoped>\n",
              "    .dataframe tbody tr th:only-of-type {\n",
              "        vertical-align: middle;\n",
              "    }\n",
              "\n",
              "    .dataframe tbody tr th {\n",
              "        vertical-align: top;\n",
              "    }\n",
              "\n",
              "    .dataframe thead th {\n",
              "        text-align: right;\n",
              "    }\n",
              "</style>\n",
              "<table border=\"1\" class=\"dataframe\">\n",
              "  <thead>\n",
              "    <tr style=\"text-align: right;\">\n",
              "      <th></th>\n",
              "      <th>CMTE_ID</th>\n",
              "      <th>TRANSACTION_AMT_3</th>\n",
              "      <th>OTHER_ID</th>\n",
              "    </tr>\n",
              "  </thead>\n",
              "  <tbody>\n",
              "    <tr>\n",
              "      <th>0</th>\n",
              "      <td>C00567180</td>\n",
              "      <td>1880</td>\n",
              "      <td>C00494583</td>\n",
              "    </tr>\n",
              "    <tr>\n",
              "      <th>1</th>\n",
              "      <td>C00650440</td>\n",
              "      <td>700</td>\n",
              "      <td>C00640086</td>\n",
              "    </tr>\n",
              "    <tr>\n",
              "      <th>2</th>\n",
              "      <td>C00638478</td>\n",
              "      <td>2795</td>\n",
              "      <td>H8CA39133</td>\n",
              "    </tr>\n",
              "    <tr>\n",
              "      <th>3</th>\n",
              "      <td>C00638478</td>\n",
              "      <td>59816</td>\n",
              "      <td>H8CA39133</td>\n",
              "    </tr>\n",
              "    <tr>\n",
              "      <th>4</th>\n",
              "      <td>C00638478</td>\n",
              "      <td>50000</td>\n",
              "      <td>H8CA39133</td>\n",
              "    </tr>\n",
              "  </tbody>\n",
              "</table>\n",
              "</div>"
            ],
            "text/plain": [
              "     CMTE_ID  TRANSACTION_AMT_3   OTHER_ID\n",
              "0  C00567180               1880  C00494583\n",
              "1  C00650440                700  C00640086\n",
              "2  C00638478               2795  H8CA39133\n",
              "3  C00638478              59816  H8CA39133\n",
              "4  C00638478              50000  H8CA39133"
            ]
          },
          "metadata": {
            "tags": []
          },
          "execution_count": 18
        }
      ]
    },
    {
      "cell_type": "code",
      "metadata": {
        "id": "bYkbAnNUQCjT",
        "colab": {
          "base_uri": "https://localhost:8080/",
          "height": 137
        },
        "outputId": "a379815d-2387-4fe3-c89a-b5e3c569bbf1"
      },
      "source": [
        "expenses.head(3)"
      ],
      "execution_count": null,
      "outputs": [
        {
          "output_type": "execute_result",
          "data": {
            "text/html": [
              "<div>\n",
              "<style scoped>\n",
              "    .dataframe tbody tr th:only-of-type {\n",
              "        vertical-align: middle;\n",
              "    }\n",
              "\n",
              "    .dataframe tbody tr th {\n",
              "        vertical-align: top;\n",
              "    }\n",
              "\n",
              "    .dataframe thead th {\n",
              "        text-align: right;\n",
              "    }\n",
              "</style>\n",
              "<table border=\"1\" class=\"dataframe\">\n",
              "  <thead>\n",
              "    <tr style=\"text-align: right;\">\n",
              "      <th></th>\n",
              "      <th>CMTE_ID</th>\n",
              "      <th>TRANSACTION_DT</th>\n",
              "      <th>TRANSACTION_AMT</th>\n",
              "      <th>PURPOSE</th>\n",
              "      <th>CATEGORY</th>\n",
              "      <th>CATEGORY_DESC</th>\n",
              "    </tr>\n",
              "  </thead>\n",
              "  <tbody>\n",
              "    <tr>\n",
              "      <th>389573</th>\n",
              "      <td>C00675041</td>\n",
              "      <td>01/10/2020</td>\n",
              "      <td>150.00</td>\n",
              "      <td>COMPUTER SOFTWARE</td>\n",
              "      <td>NaN</td>\n",
              "      <td>NaN</td>\n",
              "    </tr>\n",
              "    <tr>\n",
              "      <th>389574</th>\n",
              "      <td>C00482307</td>\n",
              "      <td>01/16/2020</td>\n",
              "      <td>689.35</td>\n",
              "      <td>CLOSE WEBSITE</td>\n",
              "      <td>NaN</td>\n",
              "      <td>NaN</td>\n",
              "    </tr>\n",
              "    <tr>\n",
              "      <th>389575</th>\n",
              "      <td>C00726935</td>\n",
              "      <td>12/04/2019</td>\n",
              "      <td>1405.83</td>\n",
              "      <td>TECHNICAL CONSULTATION</td>\n",
              "      <td>NaN</td>\n",
              "      <td>NaN</td>\n",
              "    </tr>\n",
              "  </tbody>\n",
              "</table>\n",
              "</div>"
            ],
            "text/plain": [
              "          CMTE_ID TRANSACTION_DT  ...  CATEGORY CATEGORY_DESC\n",
              "389573  C00675041     01/10/2020  ...       NaN           NaN\n",
              "389574  C00482307     01/16/2020  ...       NaN           NaN\n",
              "389575  C00726935     12/04/2019  ...       NaN           NaN\n",
              "\n",
              "[3 rows x 6 columns]"
            ]
          },
          "metadata": {
            "tags": []
          },
          "execution_count": 19
        }
      ]
    },
    {
      "cell_type": "code",
      "metadata": {
        "id": "jIgqrtEJQ6O_",
        "colab": {
          "base_uri": "https://localhost:8080/",
          "height": 197
        },
        "outputId": "8724d9f1-ca11-4109-da6b-ab298230938c"
      },
      "source": [
        "df5=expenses.iloc[:,[0,2]]#extracting useful colums\n",
        "df5.columns=[\"CMTE_ID\",\"TRANSACTION_AMT_4\"]\n",
        "df5.head()"
      ],
      "execution_count": null,
      "outputs": [
        {
          "output_type": "execute_result",
          "data": {
            "text/html": [
              "<div>\n",
              "<style scoped>\n",
              "    .dataframe tbody tr th:only-of-type {\n",
              "        vertical-align: middle;\n",
              "    }\n",
              "\n",
              "    .dataframe tbody tr th {\n",
              "        vertical-align: top;\n",
              "    }\n",
              "\n",
              "    .dataframe thead th {\n",
              "        text-align: right;\n",
              "    }\n",
              "</style>\n",
              "<table border=\"1\" class=\"dataframe\">\n",
              "  <thead>\n",
              "    <tr style=\"text-align: right;\">\n",
              "      <th></th>\n",
              "      <th>CMTE_ID</th>\n",
              "      <th>TRANSACTION_AMT_4</th>\n",
              "    </tr>\n",
              "  </thead>\n",
              "  <tbody>\n",
              "    <tr>\n",
              "      <th>389573</th>\n",
              "      <td>C00675041</td>\n",
              "      <td>150.00</td>\n",
              "    </tr>\n",
              "    <tr>\n",
              "      <th>389574</th>\n",
              "      <td>C00482307</td>\n",
              "      <td>689.35</td>\n",
              "    </tr>\n",
              "    <tr>\n",
              "      <th>389575</th>\n",
              "      <td>C00726935</td>\n",
              "      <td>1405.83</td>\n",
              "    </tr>\n",
              "    <tr>\n",
              "      <th>389576</th>\n",
              "      <td>C00726935</td>\n",
              "      <td>2563.00</td>\n",
              "    </tr>\n",
              "    <tr>\n",
              "      <th>389577</th>\n",
              "      <td>C00726935</td>\n",
              "      <td>725.00</td>\n",
              "    </tr>\n",
              "  </tbody>\n",
              "</table>\n",
              "</div>"
            ],
            "text/plain": [
              "          CMTE_ID  TRANSACTION_AMT_4\n",
              "389573  C00675041             150.00\n",
              "389574  C00482307             689.35\n",
              "389575  C00726935            1405.83\n",
              "389576  C00726935            2563.00\n",
              "389577  C00726935             725.00"
            ]
          },
          "metadata": {
            "tags": []
          },
          "execution_count": 20
        }
      ]
    },
    {
      "cell_type": "code",
      "metadata": {
        "id": "lL_jo-kERNiG",
        "colab": {
          "base_uri": "https://localhost:8080/"
        },
        "outputId": "57b331a4-e562-45b2-901a-f708a95b4247"
      },
      "source": [
        "print(df1.columns.values,\" \\t\\t\\t   com-cond-linakges\")\n",
        "print(df2.columns.values,\"  \\t   individual\")\n",
        "print(df3.columns.values,\"    com-to-cand\")\n",
        "print(df4.columns.values,\"com-to-com\")\n",
        "print(df5.columns.values,\"\\t   expenses\")"
      ],
      "execution_count": null,
      "outputs": [
        {
          "output_type": "stream",
          "text": [
            "['CAND_ID' 'CMTE_ID']  \t\t\t   com-cond-linakges\n",
            "['CMTE_ID' 'TRANSACTION_AMT_1']   \t   individual\n",
            "['CMTE' 'TRANSACTION_AMT_2' 'CAND_ID']     com-to-cand\n",
            "['CMTE_ID' 'TRANSACTION_AMT_3' 'OTHER_ID'] com-to-com\n",
            "['CMTE_ID' 'TRANSACTION_AMT_4'] \t   expenses\n"
          ],
          "name": "stdout"
        }
      ]
    },
    {
      "cell_type": "code",
      "metadata": {
        "id": "dt5YNUl0PUlO"
      },
      "source": [
        "#df6=df2.append(df4)#merging the datasets on the column CMTE_ID\n",
        "#df7=df5.append(df6)"
      ],
      "execution_count": null,
      "outputs": []
    },
    {
      "cell_type": "code",
      "metadata": {
        "id": "FyKvyZ3gRx3K",
        "colab": {
          "base_uri": "https://localhost:8080/"
        },
        "outputId": "81a224c5-79d8-477c-81c3-7315ceceb45e"
      },
      "source": [
        "inflow_1=pd.concat([df5,df2,df4,df1])\n",
        "inflow_1.info()"
      ],
      "execution_count": null,
      "outputs": [
        {
          "output_type": "stream",
          "text": [
            "<class 'pandas.core.frame.DataFrame'>\n",
            "Int64Index: 38892813 entries, 389573 to 6824\n",
            "Data columns (total 6 columns):\n",
            " #   Column             Dtype  \n",
            "---  ------             -----  \n",
            " 0   CMTE_ID            object \n",
            " 1   TRANSACTION_AMT_4  float64\n",
            " 2   TRANSACTION_AMT_1  object \n",
            " 3   TRANSACTION_AMT_3  float64\n",
            " 4   OTHER_ID           object \n",
            " 5   CAND_ID            object \n",
            "dtypes: float64(2), object(4)\n",
            "memory usage: 2.0+ GB\n"
          ],
          "name": "stdout"
        }
      ]
    },
    {
      "cell_type": "code",
      "metadata": {
        "id": "UVy1dNnYYvJm"
      },
      "source": [
        "inflow_1[\"TRANSACTION_AMT_1\"]=pd.to_numeric(inflow_1[\"TRANSACTION_AMT_1\"],errors=\"coerce\")#Converting object datatype to numeric for further calculation"
      ],
      "execution_count": null,
      "outputs": []
    },
    {
      "cell_type": "code",
      "metadata": {
        "id": "5tcTJlREapAm"
      },
      "source": [
        "inflow_1[\"CASH_INFLOW\"]=inflow_1[\"TRANSACTION_AMT_1\"].fillna(0)+inflow_1[\"TRANSACTION_AMT_3\"].fillna(0)# replacing null values with 0"
      ],
      "execution_count": null,
      "outputs": []
    },
    {
      "cell_type": "code",
      "metadata": {
        "id": "_ZaE4t4YsCAl"
      },
      "source": [
        "output=pd.DataFrame()"
      ],
      "execution_count": null,
      "outputs": []
    },
    {
      "cell_type": "code",
      "metadata": {
        "id": "mh1IEVL8bF8v"
      },
      "source": [
        "flow=inflow_1.groupby(\"CAND_ID\")\n",
        "gb=flow.groups\n",
        "output[\"CAND_ID\"]=gb.keys()\n",
        "output[\"Cash_Inflow\"]=flow.sum()[\"CASH_INFLOW\"].values\n",
        "output[\"Cash_Outflow\"]=flow.sum()[\"TRANSACTION_AMT_4\"].values"
      ],
      "execution_count": null,
      "outputs": []
    },
    {
      "cell_type": "code",
      "metadata": {
        "id": "kw2FYxJBwD75"
      },
      "source": [
        "output[\"Balance\"]=output[\"Cash_Inflow\"].fillna(0)-output[\"Cash_Outflow\"].fillna(0)"
      ],
      "execution_count": null,
      "outputs": []
    },
    {
      "cell_type": "code",
      "metadata": {
        "id": "miCTzZrb018u",
        "colab": {
          "base_uri": "https://localhost:8080/",
          "height": 406
        },
        "outputId": "2176a283-8741-4b89-b2a8-30c6e5283a88"
      },
      "source": [
        "output"
      ],
      "execution_count": null,
      "outputs": [
        {
          "output_type": "execute_result",
          "data": {
            "text/html": [
              "<div>\n",
              "<style scoped>\n",
              "    .dataframe tbody tr th:only-of-type {\n",
              "        vertical-align: middle;\n",
              "    }\n",
              "\n",
              "    .dataframe tbody tr th {\n",
              "        vertical-align: top;\n",
              "    }\n",
              "\n",
              "    .dataframe thead th {\n",
              "        text-align: right;\n",
              "    }\n",
              "</style>\n",
              "<table border=\"1\" class=\"dataframe\">\n",
              "  <thead>\n",
              "    <tr style=\"text-align: right;\">\n",
              "      <th></th>\n",
              "      <th>CAND_ID</th>\n",
              "      <th>Cash_Inflow</th>\n",
              "      <th>Cash_Outflow</th>\n",
              "      <th>Balance</th>\n",
              "    </tr>\n",
              "  </thead>\n",
              "  <tbody>\n",
              "    <tr>\n",
              "      <th>0</th>\n",
              "      <td>C00713602</td>\n",
              "      <td>0.0</td>\n",
              "      <td>0.0</td>\n",
              "      <td>0.0</td>\n",
              "    </tr>\n",
              "    <tr>\n",
              "      <th>1</th>\n",
              "      <td>H0AK00105</td>\n",
              "      <td>0.0</td>\n",
              "      <td>0.0</td>\n",
              "      <td>0.0</td>\n",
              "    </tr>\n",
              "    <tr>\n",
              "      <th>2</th>\n",
              "      <td>H0AL01055</td>\n",
              "      <td>0.0</td>\n",
              "      <td>0.0</td>\n",
              "      <td>0.0</td>\n",
              "    </tr>\n",
              "    <tr>\n",
              "      <th>3</th>\n",
              "      <td>H0AL01063</td>\n",
              "      <td>0.0</td>\n",
              "      <td>0.0</td>\n",
              "      <td>0.0</td>\n",
              "    </tr>\n",
              "    <tr>\n",
              "      <th>4</th>\n",
              "      <td>H0AL01071</td>\n",
              "      <td>0.0</td>\n",
              "      <td>0.0</td>\n",
              "      <td>0.0</td>\n",
              "    </tr>\n",
              "    <tr>\n",
              "      <th>...</th>\n",
              "      <td>...</td>\n",
              "      <td>...</td>\n",
              "      <td>...</td>\n",
              "      <td>...</td>\n",
              "    </tr>\n",
              "    <tr>\n",
              "      <th>6133</th>\n",
              "      <td>S8WV00119</td>\n",
              "      <td>0.0</td>\n",
              "      <td>0.0</td>\n",
              "      <td>0.0</td>\n",
              "    </tr>\n",
              "    <tr>\n",
              "      <th>6134</th>\n",
              "      <td>S8WV00127</td>\n",
              "      <td>0.0</td>\n",
              "      <td>0.0</td>\n",
              "      <td>0.0</td>\n",
              "    </tr>\n",
              "    <tr>\n",
              "      <th>6135</th>\n",
              "      <td>S8WV00143</td>\n",
              "      <td>0.0</td>\n",
              "      <td>0.0</td>\n",
              "      <td>0.0</td>\n",
              "    </tr>\n",
              "    <tr>\n",
              "      <th>6136</th>\n",
              "      <td>S8WY00189</td>\n",
              "      <td>0.0</td>\n",
              "      <td>0.0</td>\n",
              "      <td>0.0</td>\n",
              "    </tr>\n",
              "    <tr>\n",
              "      <th>6137</th>\n",
              "      <td>S8WY00197</td>\n",
              "      <td>0.0</td>\n",
              "      <td>0.0</td>\n",
              "      <td>0.0</td>\n",
              "    </tr>\n",
              "  </tbody>\n",
              "</table>\n",
              "<p>6138 rows × 4 columns</p>\n",
              "</div>"
            ],
            "text/plain": [
              "        CAND_ID  Cash_Inflow  Cash_Outflow  Balance\n",
              "0     C00713602          0.0           0.0      0.0\n",
              "1     H0AK00105          0.0           0.0      0.0\n",
              "2     H0AL01055          0.0           0.0      0.0\n",
              "3     H0AL01063          0.0           0.0      0.0\n",
              "4     H0AL01071          0.0           0.0      0.0\n",
              "...         ...          ...           ...      ...\n",
              "6133  S8WV00119          0.0           0.0      0.0\n",
              "6134  S8WV00127          0.0           0.0      0.0\n",
              "6135  S8WV00143          0.0           0.0      0.0\n",
              "6136  S8WY00189          0.0           0.0      0.0\n",
              "6137  S8WY00197          0.0           0.0      0.0\n",
              "\n",
              "[6138 rows x 4 columns]"
            ]
          },
          "metadata": {
            "tags": []
          },
          "execution_count": 29
        }
      ]
    },
    {
      "cell_type": "code",
      "metadata": {
        "id": "r8_oy_5Gz78W",
        "colab": {
          "base_uri": "https://localhost:8080/",
          "height": 406
        },
        "outputId": "12554d4c-9c6d-4bb7-992c-75ef16d23bc3"
      },
      "source": [
        "inflow_1"
      ],
      "execution_count": null,
      "outputs": [
        {
          "output_type": "execute_result",
          "data": {
            "text/html": [
              "<div>\n",
              "<style scoped>\n",
              "    .dataframe tbody tr th:only-of-type {\n",
              "        vertical-align: middle;\n",
              "    }\n",
              "\n",
              "    .dataframe tbody tr th {\n",
              "        vertical-align: top;\n",
              "    }\n",
              "\n",
              "    .dataframe thead th {\n",
              "        text-align: right;\n",
              "    }\n",
              "</style>\n",
              "<table border=\"1\" class=\"dataframe\">\n",
              "  <thead>\n",
              "    <tr style=\"text-align: right;\">\n",
              "      <th></th>\n",
              "      <th>CAND_ID</th>\n",
              "      <th>CMTE_ID</th>\n",
              "      <th>TRANSACTION_AMT_1</th>\n",
              "      <th>TRANSACTION_AMT_3</th>\n",
              "      <th>OTHER_ID</th>\n",
              "      <th>TRANSACTION_AMT_4</th>\n",
              "      <th>CASH_INFLOW</th>\n",
              "    </tr>\n",
              "  </thead>\n",
              "  <tbody>\n",
              "    <tr>\n",
              "      <th>0</th>\n",
              "      <td>C00713602</td>\n",
              "      <td>C00712851</td>\n",
              "      <td>NaN</td>\n",
              "      <td>NaN</td>\n",
              "      <td>NaN</td>\n",
              "      <td>NaN</td>\n",
              "      <td>0.0</td>\n",
              "    </tr>\n",
              "    <tr>\n",
              "      <th>1</th>\n",
              "      <td>H0AK00105</td>\n",
              "      <td>C00607515</td>\n",
              "      <td>NaN</td>\n",
              "      <td>NaN</td>\n",
              "      <td>NaN</td>\n",
              "      <td>NaN</td>\n",
              "      <td>0.0</td>\n",
              "    </tr>\n",
              "    <tr>\n",
              "      <th>2</th>\n",
              "      <td>H0AL01055</td>\n",
              "      <td>C00697789</td>\n",
              "      <td>NaN</td>\n",
              "      <td>NaN</td>\n",
              "      <td>NaN</td>\n",
              "      <td>NaN</td>\n",
              "      <td>0.0</td>\n",
              "    </tr>\n",
              "    <tr>\n",
              "      <th>3</th>\n",
              "      <td>H0AL01063</td>\n",
              "      <td>C00701557</td>\n",
              "      <td>NaN</td>\n",
              "      <td>NaN</td>\n",
              "      <td>NaN</td>\n",
              "      <td>NaN</td>\n",
              "      <td>0.0</td>\n",
              "    </tr>\n",
              "    <tr>\n",
              "      <th>4</th>\n",
              "      <td>H0AL01071</td>\n",
              "      <td>C00701409</td>\n",
              "      <td>NaN</td>\n",
              "      <td>NaN</td>\n",
              "      <td>NaN</td>\n",
              "      <td>NaN</td>\n",
              "      <td>0.0</td>\n",
              "    </tr>\n",
              "    <tr>\n",
              "      <th>...</th>\n",
              "      <td>...</td>\n",
              "      <td>...</td>\n",
              "      <td>...</td>\n",
              "      <td>...</td>\n",
              "      <td>...</td>\n",
              "      <td>...</td>\n",
              "      <td>...</td>\n",
              "    </tr>\n",
              "    <tr>\n",
              "      <th>1719824</th>\n",
              "      <td>NaN</td>\n",
              "      <td>C00325936</td>\n",
              "      <td>NaN</td>\n",
              "      <td>NaN</td>\n",
              "      <td>NaN</td>\n",
              "      <td>25.00</td>\n",
              "      <td>0.0</td>\n",
              "    </tr>\n",
              "    <tr>\n",
              "      <th>1719825</th>\n",
              "      <td>NaN</td>\n",
              "      <td>C00325936</td>\n",
              "      <td>NaN</td>\n",
              "      <td>NaN</td>\n",
              "      <td>NaN</td>\n",
              "      <td>64.90</td>\n",
              "      <td>0.0</td>\n",
              "    </tr>\n",
              "    <tr>\n",
              "      <th>1719826</th>\n",
              "      <td>NaN</td>\n",
              "      <td>C00325936</td>\n",
              "      <td>NaN</td>\n",
              "      <td>NaN</td>\n",
              "      <td>NaN</td>\n",
              "      <td>66.44</td>\n",
              "      <td>0.0</td>\n",
              "    </tr>\n",
              "    <tr>\n",
              "      <th>1719827</th>\n",
              "      <td>NaN</td>\n",
              "      <td>C00084954</td>\n",
              "      <td>NaN</td>\n",
              "      <td>NaN</td>\n",
              "      <td>NaN</td>\n",
              "      <td>264.10</td>\n",
              "      <td>0.0</td>\n",
              "    </tr>\n",
              "    <tr>\n",
              "      <th>1719828</th>\n",
              "      <td>NaN</td>\n",
              "      <td>C00084954</td>\n",
              "      <td>NaN</td>\n",
              "      <td>NaN</td>\n",
              "      <td>NaN</td>\n",
              "      <td>238.17</td>\n",
              "      <td>0.0</td>\n",
              "    </tr>\n",
              "  </tbody>\n",
              "</table>\n",
              "<p>38892813 rows × 7 columns</p>\n",
              "</div>"
            ],
            "text/plain": [
              "           CAND_ID    CMTE_ID  ...  TRANSACTION_AMT_4  CASH_INFLOW\n",
              "0        C00713602  C00712851  ...                NaN          0.0\n",
              "1        H0AK00105  C00607515  ...                NaN          0.0\n",
              "2        H0AL01055  C00697789  ...                NaN          0.0\n",
              "3        H0AL01063  C00701557  ...                NaN          0.0\n",
              "4        H0AL01071  C00701409  ...                NaN          0.0\n",
              "...            ...        ...  ...                ...          ...\n",
              "1719824        NaN  C00325936  ...              25.00          0.0\n",
              "1719825        NaN  C00325936  ...              64.90          0.0\n",
              "1719826        NaN  C00325936  ...              66.44          0.0\n",
              "1719827        NaN  C00084954  ...             264.10          0.0\n",
              "1719828        NaN  C00084954  ...             238.17          0.0\n",
              "\n",
              "[38892813 rows x 7 columns]"
            ]
          },
          "metadata": {
            "tags": []
          },
          "execution_count": 30
        }
      ]
    },
    {
      "cell_type": "code",
      "metadata": {
        "id": "9NZcLll1deUe"
      },
      "source": [
        ""
      ],
      "execution_count": null,
      "outputs": []
    }
  ]
}